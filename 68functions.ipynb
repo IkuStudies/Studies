{
 "cells": [
  {
   "attachments": {},
   "cell_type": "markdown",
   "metadata": {},
   "source": [
    "#### 68 built-in functions in Python:\n",
    "\n",
    "1. abs()\n",
    "2. all()\n",
    "3. any()\n",
    "4. ascii()\n",
    "5. bin()\n",
    "6. bool()\n",
    "7. breakpoint()\n",
    "8. bytearray()\n",
    "9. bytes()\n",
    "10. callable()\n",
    "11. chr()\n",
    "12. classmethod()\n",
    "13. compile()\n",
    "14. complex()\n",
    "15. delattr()\n",
    "16. dict()\n",
    "17. dir()\n",
    "18. divmod()\n",
    "19. enumerate()\n",
    "20. eval()\n",
    "21. exec()\n",
    "22. filter()\n",
    "23. float()\n",
    "24. format()\n",
    "25. frozenset()\n",
    "26. getattr()\n",
    "27. globals()\n",
    "28. hasattr()\n",
    "29. hash()\n",
    "30. help()\n",
    "31. hex()\n",
    "32. id()\n",
    "33. input()\n",
    "34. int()\n",
    "35. isinstance()\n",
    "36. issubclass()\n",
    "37. iter()\n",
    "38. len()\n",
    "39. list()\n",
    "40. locals()\n",
    "41. map()\n",
    "42. max()\n",
    "43. memoryview()\n",
    "44. min()\n",
    "45. next()\n",
    "46. object()\n",
    "47. oct()\n",
    "48. open()\n",
    "49. ord()\n",
    "50. pow()\n",
    "51. print()\n",
    "52. property()\n",
    "53. range()\n",
    "54. repr()\n",
    "55. reversed()\n",
    "56. round()\n",
    "57. set()\n",
    "58. setattr()\n",
    "59. slice()\n",
    "60. sorted()\n",
    "61. staticmethod()\n",
    "62. str()\n",
    "63. sum()\n",
    "64. super()\n",
    "65. tuple()\n",
    "66. type()\n",
    "67. vars()\n",
    "68. zip()"
   ]
  },
  {
   "cell_type": "code",
   "execution_count": 48,
   "metadata": {},
   "outputs": [
    {
     "name": "stdout",
     "output_type": "stream",
     "text": [
      "5\n"
     ]
    }
   ],
   "source": [
    "# Absolute value of a number\n",
    "abs_num = abs(-5)\n",
    "print(abs_num)\n"
   ]
  },
  {
   "cell_type": "code",
   "execution_count": 49,
   "metadata": {},
   "outputs": [
    {
     "name": "stdout",
     "output_type": "stream",
     "text": [
      "False\n"
     ]
    }
   ],
   "source": [
    "\n",
    "# Check if all elements in a list are True\n",
    "all_true = all([True, True, False])\n",
    "print(all_true)\n"
   ]
  },
  {
   "cell_type": "code",
   "execution_count": 50,
   "metadata": {},
   "outputs": [
    {
     "name": "stdout",
     "output_type": "stream",
     "text": [
      "True\n"
     ]
    }
   ],
   "source": [
    "\n",
    "# Check if any element in a list is True\n",
    "any_true = any([True, True, False])\n",
    "print(any_true)\n"
   ]
  },
  {
   "cell_type": "code",
   "execution_count": 51,
   "metadata": {},
   "outputs": [
    {
     "name": "stdout",
     "output_type": "stream",
     "text": [
      "'a'\n"
     ]
    }
   ],
   "source": [
    "\n",
    "# Get the ASCII representation of a character\n",
    "ascii_char = ascii('a')\n",
    "print(ascii_char)\n"
   ]
  },
  {
   "cell_type": "code",
   "execution_count": 52,
   "metadata": {},
   "outputs": [
    {
     "name": "stdout",
     "output_type": "stream",
     "text": [
      "0b1010\n"
     ]
    }
   ],
   "source": [
    "\n",
    "# Convert an integer to a binary string\n",
    "binary_num = bin(10)\n",
    "print(binary_num)\n"
   ]
  },
  {
   "cell_type": "code",
   "execution_count": 53,
   "metadata": {},
   "outputs": [
    {
     "name": "stdout",
     "output_type": "stream",
     "text": [
      "True\n"
     ]
    }
   ],
   "source": [
    "\n",
    "# Check if a value is a boolean\n",
    "is_bool = bool(1)\n",
    "print(is_bool)\n"
   ]
  },
  {
   "cell_type": "code",
   "execution_count": 54,
   "metadata": {},
   "outputs": [
    {
     "name": "stdout",
     "output_type": "stream",
     "text": [
      "Debugging...\n"
     ]
    }
   ],
   "source": [
    "\n",
    "# Set a breakpoint for debugging\n",
    "def debug_function():\n",
    "    breakpoint()\n",
    "    print('Debugging...')\n",
    "\n",
    "debug_function()\n"
   ]
  },
  {
   "cell_type": "code",
   "execution_count": 55,
   "metadata": {},
   "outputs": [
    {
     "name": "stdout",
     "output_type": "stream",
     "text": [
      "bytearray(b'Hello')\n"
     ]
    }
   ],
   "source": [
    "\n",
    "# Create a mutable bytearray object\n",
    "byte_array = bytearray(b'Hello')\n",
    "print(byte_array)\n"
   ]
  },
  {
   "cell_type": "code",
   "execution_count": 56,
   "metadata": {},
   "outputs": [
    {
     "name": "stdout",
     "output_type": "stream",
     "text": [
      "b'Hello'\n"
     ]
    }
   ],
   "source": [
    "\n",
    "# Create a bytes object from a string\n",
    "byte_string = bytes('Hello', 'utf-8')\n",
    "print(byte_string)\n"
   ]
  },
  {
   "cell_type": "code",
   "execution_count": 57,
   "metadata": {},
   "outputs": [
    {
     "name": "stdout",
     "output_type": "stream",
     "text": [
      "True\n"
     ]
    }
   ],
   "source": [
    "\n",
    "# Check if an object is callable\n",
    "is_callable = callable(print)\n",
    "print(is_callable)\n"
   ]
  },
  {
   "cell_type": "code",
   "execution_count": 58,
   "metadata": {},
   "outputs": [
    {
     "name": "stdout",
     "output_type": "stream",
     "text": [
      "€\n"
     ]
    }
   ],
   "source": [
    "\n",
    "# Get the Unicode character for a given codepoint\n",
    "unicode_char = chr(8364)\n",
    "print(unicode_char)\n"
   ]
  },
  {
   "cell_type": "code",
   "execution_count": 59,
   "metadata": {},
   "outputs": [
    {
     "name": "stdout",
     "output_type": "stream",
     "text": [
      "Class method\n"
     ]
    }
   ],
   "source": [
    "\n",
    "# Define a class method\n",
    "class MyClass:\n",
    "    @classmethod\n",
    "    def my_method(cls):\n",
    "        print('Class method')\n",
    "\n",
    "MyClass.my_method()\n"
   ]
  },
  {
   "cell_type": "code",
   "execution_count": 60,
   "metadata": {},
   "outputs": [
    {
     "name": "stdout",
     "output_type": "stream",
     "text": [
      "Hello, world!\n"
     ]
    }
   ],
   "source": [
    "\n",
    "# Compile a Python source or AST object\n",
    "code = compile('print(\"Hello, world!\")', '', 'exec')\n",
    "exec(code)\n"
   ]
  },
  {
   "cell_type": "code",
   "execution_count": 61,
   "metadata": {},
   "outputs": [
    {
     "name": "stdout",
     "output_type": "stream",
     "text": [
      "(2+3j)\n"
     ]
    }
   ],
   "source": [
    "\n",
    "# Create a complex number\n",
    "complex_num = complex(2, 3)\n",
    "print(complex_num)\n"
   ]
  },
  {
   "cell_type": "code",
   "execution_count": 62,
   "metadata": {},
   "outputs": [
    {
     "name": "stdout",
     "output_type": "stream",
     "text": [
      "Before deletion:\n",
      "Name: Alice\n",
      "Age: 25\n",
      "\n",
      "After deletion:\n",
      "Name: Alice\n",
      "Attribute does not exist\n"
     ]
    }
   ],
   "source": [
    "\n",
    "# Delete an attribute from an object\n",
    "class Person:\n",
    "    def __init__(self, name, age):\n",
    "        self.name = name\n",
    "        self.age = age\n",
    "\n",
    "person = Person(\"Alice\", 25)\n",
    "\n",
    "print(\"Before deletion:\")\n",
    "print(\"Name:\", person.name)\n",
    "print(\"Age:\", person.age)\n",
    "\n",
    "try:\n",
    "    delattr(person, 'age')\n",
    "    print(\"\\nAfter deletion:\")\n",
    "    print(\"Name:\", person.name)\n",
    "    print(\"Age:\", person.age)\n",
    "except AttributeError:\n",
    "    print(\"Attribute does not exist\")\n"
   ]
  },
  {
   "cell_type": "code",
   "execution_count": 63,
   "metadata": {},
   "outputs": [
    {
     "name": "stdout",
     "output_type": "stream",
     "text": [
      "{'a': 1, 'b': 2, 'c': 3}\n"
     ]
    }
   ],
   "source": [
    "\n",
    "# Create a dictionary\n",
    "my_dict = dict(a=1, b=2, c=3)\n",
    "print(my_dict)\n"
   ]
  },
  {
   "cell_type": "code",
   "execution_count": 64,
   "metadata": {},
   "outputs": [
    {
     "name": "stdout",
     "output_type": "stream",
     "text": [
      "['In', 'MyClass', 'MyObject', 'Out', 'Person', '_', '__', '___', '__builtin__', '__builtins__', '__doc__', '__loader__', '__name__', '__package__', '__spec__', '__vsc_ipynb_file__', '_dh', '_i', '_i1', '_i10', '_i11', '_i12', '_i13', '_i14', '_i15', '_i16', '_i17', '_i18', '_i19', '_i2', '_i20', '_i21', '_i22', '_i23', '_i24', '_i25', '_i26', '_i27', '_i28', '_i29', '_i3', '_i30', '_i31', '_i32', '_i33', '_i34', '_i35', '_i36', '_i37', '_i38', '_i39', '_i4', '_i40', '_i41', '_i42', '_i43', '_i44', '_i45', '_i46', '_i47', '_i48', '_i49', '_i5', '_i50', '_i51', '_i52', '_i53', '_i54', '_i55', '_i56', '_i57', '_i58', '_i59', '_i6', '_i60', '_i61', '_i62', '_i63', '_i64', '_i7', '_i8', '_i9', '_ih', '_ii', '_iii', '_oh', 'abs_num', 'age', 'all_true', 'any_true', 'ascii_char', 'binary_num', 'byte_array', 'byte_string', 'code', 'complex_num', 'debug_function', 'exit', 'filtered_numbers', 'float_num', 'formatted_string', 'frozen_set', 'fruit', 'fruits', 'get_ipython', 'globals_dict', 'index', 'is_bool', 'is_callable', 'my_dict', 'name', 'namespace_names', 'numbers', 'obj', 'open', 'person', 'quit', 'quotient', 'remainder', 'result', 'unicode_char', 'x']\n"
     ]
    }
   ],
   "source": [
    "\n",
    "# Get the list of names in the current namespace\n",
    "namespace_names = dir()\n",
    "print(namespace_names)\n"
   ]
  },
  {
   "cell_type": "code",
   "execution_count": 65,
   "metadata": {},
   "outputs": [
    {
     "name": "stdout",
     "output_type": "stream",
     "text": [
      "3 1\n"
     ]
    }
   ],
   "source": [
    "\n",
    "# Perform integer division and return the quotient and remainder\n",
    "quotient, remainder = divmod(10, 3)\n",
    "print(quotient, remainder)\n"
   ]
  },
  {
   "cell_type": "code",
   "execution_count": 66,
   "metadata": {},
   "outputs": [
    {
     "name": "stdout",
     "output_type": "stream",
     "text": [
      "0 apple\n",
      "1 banana\n",
      "2 cherry\n"
     ]
    }
   ],
   "source": [
    "\n",
    "# Enumerate over a list with index and value\n",
    "fruits = ['apple', 'banana', 'cherry']\n",
    "for index, fruit in enumerate(fruits):\n",
    "    print(index, fruit)\n"
   ]
  },
  {
   "cell_type": "code",
   "execution_count": 67,
   "metadata": {},
   "outputs": [
    {
     "name": "stdout",
     "output_type": "stream",
     "text": [
      "5\n"
     ]
    }
   ],
   "source": [
    "\n",
    "# Evaluate a string as a Python expression\n",
    "result = eval('2 + 3')\n",
    "print(result)\n"
   ]
  },
  {
   "cell_type": "code",
   "execution_count": 68,
   "metadata": {},
   "outputs": [
    {
     "name": "stdout",
     "output_type": "stream",
     "text": [
      "5\n"
     ]
    }
   ],
   "source": [
    "\n",
    "# Execute Python code dynamically\n",
    "code = '''\n",
    "x = 5\n",
    "print(x)\n",
    "'''\n",
    "exec(code)\n"
   ]
  },
  {
   "cell_type": "code",
   "execution_count": 69,
   "metadata": {},
   "outputs": [
    {
     "name": "stdout",
     "output_type": "stream",
     "text": [
      "[2, 4, 6]\n"
     ]
    }
   ],
   "source": [
    "\n",
    "# Filter elements from an iterable based on a condition\n",
    "numbers = [1, 2, 3, 4, 5, 6]\n",
    "filtered_numbers = filter(lambda x: x % 2 == 0, numbers)\n",
    "print(list(filtered_numbers))\n"
   ]
  },
  {
   "cell_type": "code",
   "execution_count": 70,
   "metadata": {},
   "outputs": [
    {
     "name": "stdout",
     "output_type": "stream",
     "text": [
      "3.14\n"
     ]
    }
   ],
   "source": [
    "\n",
    "# Convert a string or a number to a floating-point number\n",
    "float_num = float('3.14')\n",
    "print(float_num)\n"
   ]
  },
  {
   "cell_type": "code",
   "execution_count": 71,
   "metadata": {},
   "outputs": [
    {
     "name": "stdout",
     "output_type": "stream",
     "text": [
      "My name is Alice and I'm 25 years old.\n"
     ]
    }
   ],
   "source": [
    "\n",
    "# Format a string with specified values\n",
    "name = 'Alice'\n",
    "age = 25\n",
    "formatted_string = \"My name is {} and I'm {} years old.\".format(name, age)\n",
    "print(formatted_string)\n",
    "\n"
   ]
  },
  {
   "cell_type": "code",
   "execution_count": 72,
   "metadata": {},
   "outputs": [
    {
     "name": "stdout",
     "output_type": "stream",
     "text": [
      "frozenset({1, 2, 3})\n"
     ]
    }
   ],
   "source": [
    "\n",
    "# Create an immutable frozenset object\n",
    "frozen_set = frozenset([1, 2, 3])\n",
    "print(frozen_set)\n"
   ]
  },
  {
   "cell_type": "code",
   "execution_count": 73,
   "metadata": {},
   "outputs": [
    {
     "name": "stdout",
     "output_type": "stream",
     "text": [
      "Alice\n"
     ]
    }
   ],
   "source": [
    "\n",
    "# Get the value of an attribute from an object\n",
    "class Person:\n",
    "    name = 'Alice'\n",
    "\n",
    "person = Person()\n",
    "name = getattr(person, 'name')\n",
    "print(name)\n"
   ]
  },
  {
   "cell_type": "code",
   "execution_count": 74,
   "metadata": {},
   "outputs": [
    {
     "name": "stdout",
     "output_type": "stream",
     "text": [
      "{'__name__': '__main__', '__doc__': 'Automatically created module for IPython interactive environment', '__package__': None, '__loader__': None, '__spec__': None, '__builtin__': <module 'builtins' (built-in)>, '__builtins__': <module 'builtins' (built-in)>, '_ih': ['', '# Absolute value of a number\\nabs_num = abs(-5)\\nprint(abs_num)', '# Check if all elements in a list are True\\nall_true = all([True, True, False])\\nprint(all_true)', '# Check if any element in a list is True\\nany_true = any([True, True, False])\\nprint(any_true)', \"# Get the ASCII representation of a character\\nascii_char = ascii('a')\\nprint(ascii_char)\", '# Convert an integer to a binary string\\nbinary_num = bin(10)\\nprint(binary_num)', '# Check if a value is a boolean\\nis_bool = bool(1)\\nprint(is_bool)', \"# Set a breakpoint for debugging\\ndef debug_function():\\n    breakpoint()\\n    print('Debugging...')\\n\\ndebug_function()\", \"# Create a mutable bytearray object\\nbyte_array = bytearray(b'Hello')\\nprint(byte_array)\", \"# Create a bytes object from a string\\nbyte_string = bytes('Hello', 'utf-8')\\nprint(byte_string)\", '# Check if an object is callable\\nis_callable = callable(print)\\nprint(is_callable)', '# Get the Unicode character for a given codepoint\\nunicode_char = chr(8364)\\nprint(unicode_char)', \"# Define a class method\\nclass MyClass:\\n    @classmethod\\n    def my_method(cls):\\n        print('Class method')\\n\\nMyClass.my_method()\", '# Compile a Python source or AST object\\ncode = compile(\\'print(\"Hello, world!\")\\', \\'\\', \\'exec\\')\\nexec(code)', '# Create a complex number\\ncomplex_num = complex(2, 3)\\nprint(complex_num)', \"# Delete an attribute from an object\\nclass MyObject:\\n    x = 5\\n\\nobj = MyObject()\\ndelattr(obj, 'x')\\nprint(hasattr(obj, 'x'))\", '# Delete an attribute from an object\\nclass MyObject:\\n    x = 5\\n\\nobj = MyObject()\\n\\ntry:\\n    delattr(obj, \\'x\\')\\n    print(hasattr(obj, \\'x\\'))\\nexcept AttributeError:\\n    print(\"Attribute does not exist\")', '# Delete an attribute from an object\\nclass Person:\\n    def __init__(self, name, age):\\n        self.name = name\\n        self.age = age\\n\\nperson = Person(\"Alice\", 25)\\n\\nprint(\"Before deletion:\")\\nprint(\"Name:\", person.name)\\nprint(\"Age:\", person.age)\\n\\ntry:\\n    delattr(person, \\'age\\')\\n    print(\"\\\\nAfter deletion:\")\\n    print(\"Name:\", person.name)\\n    print(\"Age:\", person.age)\\nexcept AttributeError:\\n    print(\"Attribute does not exist\")', '# Create a dictionary\\nmy_dict = dict(a=1, b=2, c=3)\\nprint(my_dict)', '# Get the list of names in the current namespace\\nnamespace_names = dir()\\nprint(namespace_names)', '# Absolute value of a number\\nabs_num = abs(-5)\\nprint(abs_num)', '# Check if all elements in a list are True\\nall_true = all([True, True, False])\\nprint(all_true)', '# Check if any element in a list is True\\nany_true = any([True, True, False])\\nprint(any_true)', \"# Get the ASCII representation of a character\\nascii_char = ascii('a')\\nprint(ascii_char)\", '# Convert an integer to a binary string\\nbinary_num = bin(10)\\nprint(binary_num)', '# Check if a value is a boolean\\nis_bool = bool(1)\\nprint(is_bool)', \"# Set a breakpoint for debugging\\ndef debug_function():\\n    breakpoint()\\n    print('Debugging...')\\n\\ndebug_function()\", \"# Create a mutable bytearray object\\nbyte_array = bytearray(b'Hello')\\nprint(byte_array)\", \"# Create a bytes object from a string\\nbyte_string = bytes('Hello', 'utf-8')\\nprint(byte_string)\", '# Check if an object is callable\\nis_callable = callable(print)\\nprint(is_callable)', '# Get the Unicode character for a given codepoint\\nunicode_char = chr(8364)\\nprint(unicode_char)', \"# Define a class method\\nclass MyClass:\\n    @classmethod\\n    def my_method(cls):\\n        print('Class method')\\n\\nMyClass.my_method()\", '# Compile a Python source or AST object\\ncode = compile(\\'print(\"Hello, world!\")\\', \\'\\', \\'exec\\')\\nexec(code)', '# Create a complex number\\ncomplex_num = complex(2, 3)\\nprint(complex_num)', '# Delete an attribute from an object\\nclass Person:\\n    def __init__(self, name, age):\\n        self.name = name\\n        self.age = age\\n\\nperson = Person(\"Alice\", 25)\\n\\nprint(\"Before deletion:\")\\nprint(\"Name:\", person.name)\\nprint(\"Age:\", person.age)\\n\\ntry:\\n    delattr(person, \\'age\\')\\n    print(\"\\\\nAfter deletion:\")\\n    print(\"Name:\", person.name)\\n    print(\"Age:\", person.age)\\nexcept AttributeError:\\n    print(\"Attribute does not exist\")', '# Create a dictionary\\nmy_dict = dict(a=1, b=2, c=3)\\nprint(my_dict)', '# Get the list of names in the current namespace\\nnamespace_names = dir()\\nprint(namespace_names)', '# Perform integer division and return the quotient and remainder\\nquotient, remainder = divmod(10, 3)\\nprint(quotient, remainder)', \"# Enumerate over a list with index and value\\nfruits = ['apple', 'banana', 'cherry']\\nfor index, fruit in enumerate(fruits):\\n    print(index, fruit)\", \"# Evaluate a string as a Python expression\\nresult = eval('2 + 3')\\nprint(result)\", \"# Execute Python code dynamically\\ncode = '''\\nx = 5\\nprint(x)\\n'''\\nexec(code)\", '# Filter elements from an iterable based on a condition\\nnumbers = [1, 2, 3, 4, 5, 6]\\nfiltered_numbers = filter(lambda x: x % 2 == 0, numbers)\\nprint(list(filtered_numbers))', \"# Convert a string or a number to a floating-point number\\nfloat_num = float('3.14')\\nprint(float_num)\", '# Format a string with specified values\\nname = \\'Alice\\'\\nage = 25\\nformatted_string = format(\"My name is {} and I\\'m {} years old.\", name, age)\\nprint(formatted_string)', '# Format a string with specified values\\nname = \\'Alice\\'\\nage = 25\\nformatted_string = \"My name is {} and I\\'m {} years old.\".format(name, age)\\nprint(formatted_string)', '# Create an immutable frozenset object\\nfrozen_set = frozenset([1, 2, 3])\\nprint(frozen_set)', \"# Get the value of an attribute from an object\\nclass Person:\\n    name = 'Alice'\\n\\nperson = Person()\\nname = getattr(person, 'name')\\nprint(name)\", '# Get a dictionary representing the current global symbol table\\nglobals_dict = globals()\\nprint(globals_dict)', '# Absolute value of a number\\nabs_num = abs(-5)\\nprint(abs_num)', '# Check if all elements in a list are True\\nall_true = all([True, True, False])\\nprint(all_true)', '# Check if any element in a list is True\\nany_true = any([True, True, False])\\nprint(any_true)', \"# Get the ASCII representation of a character\\nascii_char = ascii('a')\\nprint(ascii_char)\", '# Convert an integer to a binary string\\nbinary_num = bin(10)\\nprint(binary_num)', '# Check if a value is a boolean\\nis_bool = bool(1)\\nprint(is_bool)', \"# Set a breakpoint for debugging\\ndef debug_function():\\n    breakpoint()\\n    print('Debugging...')\\n\\ndebug_function()\", \"# Create a mutable bytearray object\\nbyte_array = bytearray(b'Hello')\\nprint(byte_array)\", \"# Create a bytes object from a string\\nbyte_string = bytes('Hello', 'utf-8')\\nprint(byte_string)\", '# Check if an object is callable\\nis_callable = callable(print)\\nprint(is_callable)', '# Get the Unicode character for a given codepoint\\nunicode_char = chr(8364)\\nprint(unicode_char)', \"# Define a class method\\nclass MyClass:\\n    @classmethod\\n    def my_method(cls):\\n        print('Class method')\\n\\nMyClass.my_method()\", '# Compile a Python source or AST object\\ncode = compile(\\'print(\"Hello, world!\")\\', \\'\\', \\'exec\\')\\nexec(code)', '# Create a complex number\\ncomplex_num = complex(2, 3)\\nprint(complex_num)', '# Delete an attribute from an object\\nclass Person:\\n    def __init__(self, name, age):\\n        self.name = name\\n        self.age = age\\n\\nperson = Person(\"Alice\", 25)\\n\\nprint(\"Before deletion:\")\\nprint(\"Name:\", person.name)\\nprint(\"Age:\", person.age)\\n\\ntry:\\n    delattr(person, \\'age\\')\\n    print(\"\\\\nAfter deletion:\")\\n    print(\"Name:\", person.name)\\n    print(\"Age:\", person.age)\\nexcept AttributeError:\\n    print(\"Attribute does not exist\")', '# Create a dictionary\\nmy_dict = dict(a=1, b=2, c=3)\\nprint(my_dict)', '# Get the list of names in the current namespace\\nnamespace_names = dir()\\nprint(namespace_names)', '# Perform integer division and return the quotient and remainder\\nquotient, remainder = divmod(10, 3)\\nprint(quotient, remainder)', \"# Enumerate over a list with index and value\\nfruits = ['apple', 'banana', 'cherry']\\nfor index, fruit in enumerate(fruits):\\n    print(index, fruit)\", \"# Evaluate a string as a Python expression\\nresult = eval('2 + 3')\\nprint(result)\", \"# Execute Python code dynamically\\ncode = '''\\nx = 5\\nprint(x)\\n'''\\nexec(code)\", '# Filter elements from an iterable based on a condition\\nnumbers = [1, 2, 3, 4, 5, 6]\\nfiltered_numbers = filter(lambda x: x % 2 == 0, numbers)\\nprint(list(filtered_numbers))', \"# Convert a string or a number to a floating-point number\\nfloat_num = float('3.14')\\nprint(float_num)\", '# Format a string with specified values\\nname = \\'Alice\\'\\nage = 25\\nformatted_string = \"My name is {} and I\\'m {} years old.\".format(name, age)\\nprint(formatted_string)', '# Create an immutable frozenset object\\nfrozen_set = frozenset([1, 2, 3])\\nprint(frozen_set)', \"# Get the value of an attribute from an object\\nclass Person:\\n    name = 'Alice'\\n\\nperson = Person()\\nname = getattr(person, 'name')\\nprint(name)\", '# Get a dictionary representing the current global symbol table\\nglobals_dict = globals()\\nprint(globals_dict)'], '_oh': {}, '_dh': [PosixPath('/home/josh/Code/jupyter'), PosixPath('/home/josh/Code/jupyter')], 'In': ['', '# Absolute value of a number\\nabs_num = abs(-5)\\nprint(abs_num)', '# Check if all elements in a list are True\\nall_true = all([True, True, False])\\nprint(all_true)', '# Check if any element in a list is True\\nany_true = any([True, True, False])\\nprint(any_true)', \"# Get the ASCII representation of a character\\nascii_char = ascii('a')\\nprint(ascii_char)\", '# Convert an integer to a binary string\\nbinary_num = bin(10)\\nprint(binary_num)', '# Check if a value is a boolean\\nis_bool = bool(1)\\nprint(is_bool)', \"# Set a breakpoint for debugging\\ndef debug_function():\\n    breakpoint()\\n    print('Debugging...')\\n\\ndebug_function()\", \"# Create a mutable bytearray object\\nbyte_array = bytearray(b'Hello')\\nprint(byte_array)\", \"# Create a bytes object from a string\\nbyte_string = bytes('Hello', 'utf-8')\\nprint(byte_string)\", '# Check if an object is callable\\nis_callable = callable(print)\\nprint(is_callable)', '# Get the Unicode character for a given codepoint\\nunicode_char = chr(8364)\\nprint(unicode_char)', \"# Define a class method\\nclass MyClass:\\n    @classmethod\\n    def my_method(cls):\\n        print('Class method')\\n\\nMyClass.my_method()\", '# Compile a Python source or AST object\\ncode = compile(\\'print(\"Hello, world!\")\\', \\'\\', \\'exec\\')\\nexec(code)', '# Create a complex number\\ncomplex_num = complex(2, 3)\\nprint(complex_num)', \"# Delete an attribute from an object\\nclass MyObject:\\n    x = 5\\n\\nobj = MyObject()\\ndelattr(obj, 'x')\\nprint(hasattr(obj, 'x'))\", '# Delete an attribute from an object\\nclass MyObject:\\n    x = 5\\n\\nobj = MyObject()\\n\\ntry:\\n    delattr(obj, \\'x\\')\\n    print(hasattr(obj, \\'x\\'))\\nexcept AttributeError:\\n    print(\"Attribute does not exist\")', '# Delete an attribute from an object\\nclass Person:\\n    def __init__(self, name, age):\\n        self.name = name\\n        self.age = age\\n\\nperson = Person(\"Alice\", 25)\\n\\nprint(\"Before deletion:\")\\nprint(\"Name:\", person.name)\\nprint(\"Age:\", person.age)\\n\\ntry:\\n    delattr(person, \\'age\\')\\n    print(\"\\\\nAfter deletion:\")\\n    print(\"Name:\", person.name)\\n    print(\"Age:\", person.age)\\nexcept AttributeError:\\n    print(\"Attribute does not exist\")', '# Create a dictionary\\nmy_dict = dict(a=1, b=2, c=3)\\nprint(my_dict)', '# Get the list of names in the current namespace\\nnamespace_names = dir()\\nprint(namespace_names)', '# Absolute value of a number\\nabs_num = abs(-5)\\nprint(abs_num)', '# Check if all elements in a list are True\\nall_true = all([True, True, False])\\nprint(all_true)', '# Check if any element in a list is True\\nany_true = any([True, True, False])\\nprint(any_true)', \"# Get the ASCII representation of a character\\nascii_char = ascii('a')\\nprint(ascii_char)\", '# Convert an integer to a binary string\\nbinary_num = bin(10)\\nprint(binary_num)', '# Check if a value is a boolean\\nis_bool = bool(1)\\nprint(is_bool)', \"# Set a breakpoint for debugging\\ndef debug_function():\\n    breakpoint()\\n    print('Debugging...')\\n\\ndebug_function()\", \"# Create a mutable bytearray object\\nbyte_array = bytearray(b'Hello')\\nprint(byte_array)\", \"# Create a bytes object from a string\\nbyte_string = bytes('Hello', 'utf-8')\\nprint(byte_string)\", '# Check if an object is callable\\nis_callable = callable(print)\\nprint(is_callable)', '# Get the Unicode character for a given codepoint\\nunicode_char = chr(8364)\\nprint(unicode_char)', \"# Define a class method\\nclass MyClass:\\n    @classmethod\\n    def my_method(cls):\\n        print('Class method')\\n\\nMyClass.my_method()\", '# Compile a Python source or AST object\\ncode = compile(\\'print(\"Hello, world!\")\\', \\'\\', \\'exec\\')\\nexec(code)', '# Create a complex number\\ncomplex_num = complex(2, 3)\\nprint(complex_num)', '# Delete an attribute from an object\\nclass Person:\\n    def __init__(self, name, age):\\n        self.name = name\\n        self.age = age\\n\\nperson = Person(\"Alice\", 25)\\n\\nprint(\"Before deletion:\")\\nprint(\"Name:\", person.name)\\nprint(\"Age:\", person.age)\\n\\ntry:\\n    delattr(person, \\'age\\')\\n    print(\"\\\\nAfter deletion:\")\\n    print(\"Name:\", person.name)\\n    print(\"Age:\", person.age)\\nexcept AttributeError:\\n    print(\"Attribute does not exist\")', '# Create a dictionary\\nmy_dict = dict(a=1, b=2, c=3)\\nprint(my_dict)', '# Get the list of names in the current namespace\\nnamespace_names = dir()\\nprint(namespace_names)', '# Perform integer division and return the quotient and remainder\\nquotient, remainder = divmod(10, 3)\\nprint(quotient, remainder)', \"# Enumerate over a list with index and value\\nfruits = ['apple', 'banana', 'cherry']\\nfor index, fruit in enumerate(fruits):\\n    print(index, fruit)\", \"# Evaluate a string as a Python expression\\nresult = eval('2 + 3')\\nprint(result)\", \"# Execute Python code dynamically\\ncode = '''\\nx = 5\\nprint(x)\\n'''\\nexec(code)\", '# Filter elements from an iterable based on a condition\\nnumbers = [1, 2, 3, 4, 5, 6]\\nfiltered_numbers = filter(lambda x: x % 2 == 0, numbers)\\nprint(list(filtered_numbers))', \"# Convert a string or a number to a floating-point number\\nfloat_num = float('3.14')\\nprint(float_num)\", '# Format a string with specified values\\nname = \\'Alice\\'\\nage = 25\\nformatted_string = format(\"My name is {} and I\\'m {} years old.\", name, age)\\nprint(formatted_string)', '# Format a string with specified values\\nname = \\'Alice\\'\\nage = 25\\nformatted_string = \"My name is {} and I\\'m {} years old.\".format(name, age)\\nprint(formatted_string)', '# Create an immutable frozenset object\\nfrozen_set = frozenset([1, 2, 3])\\nprint(frozen_set)', \"# Get the value of an attribute from an object\\nclass Person:\\n    name = 'Alice'\\n\\nperson = Person()\\nname = getattr(person, 'name')\\nprint(name)\", '# Get a dictionary representing the current global symbol table\\nglobals_dict = globals()\\nprint(globals_dict)', '# Absolute value of a number\\nabs_num = abs(-5)\\nprint(abs_num)', '# Check if all elements in a list are True\\nall_true = all([True, True, False])\\nprint(all_true)', '# Check if any element in a list is True\\nany_true = any([True, True, False])\\nprint(any_true)', \"# Get the ASCII representation of a character\\nascii_char = ascii('a')\\nprint(ascii_char)\", '# Convert an integer to a binary string\\nbinary_num = bin(10)\\nprint(binary_num)', '# Check if a value is a boolean\\nis_bool = bool(1)\\nprint(is_bool)', \"# Set a breakpoint for debugging\\ndef debug_function():\\n    breakpoint()\\n    print('Debugging...')\\n\\ndebug_function()\", \"# Create a mutable bytearray object\\nbyte_array = bytearray(b'Hello')\\nprint(byte_array)\", \"# Create a bytes object from a string\\nbyte_string = bytes('Hello', 'utf-8')\\nprint(byte_string)\", '# Check if an object is callable\\nis_callable = callable(print)\\nprint(is_callable)', '# Get the Unicode character for a given codepoint\\nunicode_char = chr(8364)\\nprint(unicode_char)', \"# Define a class method\\nclass MyClass:\\n    @classmethod\\n    def my_method(cls):\\n        print('Class method')\\n\\nMyClass.my_method()\", '# Compile a Python source or AST object\\ncode = compile(\\'print(\"Hello, world!\")\\', \\'\\', \\'exec\\')\\nexec(code)', '# Create a complex number\\ncomplex_num = complex(2, 3)\\nprint(complex_num)', '# Delete an attribute from an object\\nclass Person:\\n    def __init__(self, name, age):\\n        self.name = name\\n        self.age = age\\n\\nperson = Person(\"Alice\", 25)\\n\\nprint(\"Before deletion:\")\\nprint(\"Name:\", person.name)\\nprint(\"Age:\", person.age)\\n\\ntry:\\n    delattr(person, \\'age\\')\\n    print(\"\\\\nAfter deletion:\")\\n    print(\"Name:\", person.name)\\n    print(\"Age:\", person.age)\\nexcept AttributeError:\\n    print(\"Attribute does not exist\")', '# Create a dictionary\\nmy_dict = dict(a=1, b=2, c=3)\\nprint(my_dict)', '# Get the list of names in the current namespace\\nnamespace_names = dir()\\nprint(namespace_names)', '# Perform integer division and return the quotient and remainder\\nquotient, remainder = divmod(10, 3)\\nprint(quotient, remainder)', \"# Enumerate over a list with index and value\\nfruits = ['apple', 'banana', 'cherry']\\nfor index, fruit in enumerate(fruits):\\n    print(index, fruit)\", \"# Evaluate a string as a Python expression\\nresult = eval('2 + 3')\\nprint(result)\", \"# Execute Python code dynamically\\ncode = '''\\nx = 5\\nprint(x)\\n'''\\nexec(code)\", '# Filter elements from an iterable based on a condition\\nnumbers = [1, 2, 3, 4, 5, 6]\\nfiltered_numbers = filter(lambda x: x % 2 == 0, numbers)\\nprint(list(filtered_numbers))', \"# Convert a string or a number to a floating-point number\\nfloat_num = float('3.14')\\nprint(float_num)\", '# Format a string with specified values\\nname = \\'Alice\\'\\nage = 25\\nformatted_string = \"My name is {} and I\\'m {} years old.\".format(name, age)\\nprint(formatted_string)', '# Create an immutable frozenset object\\nfrozen_set = frozenset([1, 2, 3])\\nprint(frozen_set)', \"# Get the value of an attribute from an object\\nclass Person:\\n    name = 'Alice'\\n\\nperson = Person()\\nname = getattr(person, 'name')\\nprint(name)\", '# Get a dictionary representing the current global symbol table\\nglobals_dict = globals()\\nprint(globals_dict)'], 'Out': {}, 'get_ipython': <bound method InteractiveShell.get_ipython of <ipykernel.zmqshell.ZMQInteractiveShell object at 0x7fa14837c670>>, 'exit': <IPython.core.autocall.ZMQExitAutocall object at 0x7fa14837d3c0>, 'quit': <IPython.core.autocall.ZMQExitAutocall object at 0x7fa14837d3c0>, 'open': <function open at 0x7fa149402440>, '_': '', '__': '', '___': '', '__vsc_ipynb_file__': '/home/josh/Code/jupyter/68functions.ipynb', '_i': \"\\n# Get the value of an attribute from an object\\nclass Person:\\n    name = 'Alice'\\n\\nperson = Person()\\nname = getattr(person, 'name')\\nprint(name)\", '_ii': '\\n# Create an immutable frozenset object\\nfrozen_set = frozenset([1, 2, 3])\\nprint(frozen_set)', '_iii': '\\n# Format a string with specified values\\nname = \\'Alice\\'\\nage = 25\\nformatted_string = \"My name is {} and I\\'m {} years old.\".format(name, age)\\nprint(formatted_string)', '_i1': '# Absolute value of a number\\nabs_num = abs(-5)\\nprint(abs_num)', 'abs_num': 5, '_i2': '\\n# Check if all elements in a list are True\\nall_true = all([True, True, False])\\nprint(all_true)', 'all_true': False, '_i3': '\\n# Check if any element in a list is True\\nany_true = any([True, True, False])\\nprint(any_true)', 'any_true': True, '_i4': \"\\n# Get the ASCII representation of a character\\nascii_char = ascii('a')\\nprint(ascii_char)\", 'ascii_char': \"'a'\", '_i5': '\\n# Convert an integer to a binary string\\nbinary_num = bin(10)\\nprint(binary_num)', 'binary_num': '0b1010', '_i6': '\\n# Check if a value is a boolean\\nis_bool = bool(1)\\nprint(is_bool)', 'is_bool': True, '_i7': \"\\n# Set a breakpoint for debugging\\ndef debug_function():\\n    breakpoint()\\n    print('Debugging...')\\n\\ndebug_function()\", 'debug_function': <function debug_function at 0x7fa12ecacd30>, '_i8': \"\\n# Create a mutable bytearray object\\nbyte_array = bytearray(b'Hello')\\nprint(byte_array)\", 'byte_array': bytearray(b'Hello'), '_i9': \"\\n# Create a bytes object from a string\\nbyte_string = bytes('Hello', 'utf-8')\\nprint(byte_string)\", 'byte_string': b'Hello', '_i10': '\\n# Check if an object is callable\\nis_callable = callable(print)\\nprint(is_callable)', 'is_callable': True, '_i11': '\\n# Get the Unicode character for a given codepoint\\nunicode_char = chr(8364)\\nprint(unicode_char)', 'unicode_char': '€', '_i12': \"\\n# Define a class method\\nclass MyClass:\\n    @classmethod\\n    def my_method(cls):\\n        print('Class method')\\n\\nMyClass.my_method()\", 'MyClass': <class '__main__.MyClass'>, '_i13': '\\n# Compile a Python source or AST object\\ncode = compile(\\'print(\"Hello, world!\")\\', \\'\\', \\'exec\\')\\nexec(code)', 'code': '\\nx = 5\\nprint(x)\\n', '_i14': '\\n# Create a complex number\\ncomplex_num = complex(2, 3)\\nprint(complex_num)', 'complex_num': (2+3j), '_i15': \"\\n# Delete an attribute from an object\\nclass MyObject:\\n    x = 5\\n\\nobj = MyObject()\\ndelattr(obj, 'x')\\nprint(hasattr(obj, 'x'))\", 'MyObject': <class '__main__.MyObject'>, 'obj': <__main__.MyObject object at 0x7fa12ed25c30>, '_i16': '\\n# Delete an attribute from an object\\nclass MyObject:\\n    x = 5\\n\\nobj = MyObject()\\n\\ntry:\\n    delattr(obj, \\'x\\')\\n    print(hasattr(obj, \\'x\\'))\\nexcept AttributeError:\\n    print(\"Attribute does not exist\")', '_i17': '\\n# Delete an attribute from an object\\nclass Person:\\n    def __init__(self, name, age):\\n        self.name = name\\n        self.age = age\\n\\nperson = Person(\"Alice\", 25)\\n\\nprint(\"Before deletion:\")\\nprint(\"Name:\", person.name)\\nprint(\"Age:\", person.age)\\n\\ntry:\\n    delattr(person, \\'age\\')\\n    print(\"\\\\nAfter deletion:\")\\n    print(\"Name:\", person.name)\\n    print(\"Age:\", person.age)\\nexcept AttributeError:\\n    print(\"Attribute does not exist\")', 'Person': <class '__main__.Person'>, 'person': <__main__.Person object at 0x7fa1483b8df0>, '_i18': '\\n# Create a dictionary\\nmy_dict = dict(a=1, b=2, c=3)\\nprint(my_dict)', 'my_dict': {'a': 1, 'b': 2, 'c': 3}, '_i19': '\\n# Get the list of names in the current namespace\\nnamespace_names = dir()\\nprint(namespace_names)', 'namespace_names': ['In', 'MyClass', 'MyObject', 'Out', 'Person', '_', '__', '___', '__builtin__', '__builtins__', '__doc__', '__loader__', '__name__', '__package__', '__spec__', '__vsc_ipynb_file__', '_dh', '_i', '_i1', '_i10', '_i11', '_i12', '_i13', '_i14', '_i15', '_i16', '_i17', '_i18', '_i19', '_i2', '_i20', '_i21', '_i22', '_i23', '_i24', '_i25', '_i26', '_i27', '_i28', '_i29', '_i3', '_i30', '_i31', '_i32', '_i33', '_i34', '_i35', '_i36', '_i37', '_i38', '_i39', '_i4', '_i40', '_i41', '_i42', '_i43', '_i44', '_i45', '_i46', '_i47', '_i48', '_i49', '_i5', '_i50', '_i51', '_i52', '_i53', '_i54', '_i55', '_i56', '_i57', '_i58', '_i59', '_i6', '_i60', '_i61', '_i62', '_i63', '_i64', '_i7', '_i8', '_i9', '_ih', '_ii', '_iii', '_oh', 'abs_num', 'age', 'all_true', 'any_true', 'ascii_char', 'binary_num', 'byte_array', 'byte_string', 'code', 'complex_num', 'debug_function', 'exit', 'filtered_numbers', 'float_num', 'formatted_string', 'frozen_set', 'fruit', 'fruits', 'get_ipython', 'globals_dict', 'index', 'is_bool', 'is_callable', 'my_dict', 'name', 'namespace_names', 'numbers', 'obj', 'open', 'person', 'quit', 'quotient', 'remainder', 'result', 'unicode_char', 'x'], '_i20': '# Absolute value of a number\\nabs_num = abs(-5)\\nprint(abs_num)', '_i21': '\\n# Check if all elements in a list are True\\nall_true = all([True, True, False])\\nprint(all_true)', '_i22': '\\n# Check if any element in a list is True\\nany_true = any([True, True, False])\\nprint(any_true)', '_i23': \"\\n# Get the ASCII representation of a character\\nascii_char = ascii('a')\\nprint(ascii_char)\", '_i24': '\\n# Convert an integer to a binary string\\nbinary_num = bin(10)\\nprint(binary_num)', '_i25': '\\n# Check if a value is a boolean\\nis_bool = bool(1)\\nprint(is_bool)', '_i26': \"\\n# Set a breakpoint for debugging\\ndef debug_function():\\n    breakpoint()\\n    print('Debugging...')\\n\\ndebug_function()\", '_i27': \"\\n# Create a mutable bytearray object\\nbyte_array = bytearray(b'Hello')\\nprint(byte_array)\", '_i28': \"\\n# Create a bytes object from a string\\nbyte_string = bytes('Hello', 'utf-8')\\nprint(byte_string)\", '_i29': '\\n# Check if an object is callable\\nis_callable = callable(print)\\nprint(is_callable)', '_i30': '\\n# Get the Unicode character for a given codepoint\\nunicode_char = chr(8364)\\nprint(unicode_char)', '_i31': \"\\n# Define a class method\\nclass MyClass:\\n    @classmethod\\n    def my_method(cls):\\n        print('Class method')\\n\\nMyClass.my_method()\", '_i32': '\\n# Compile a Python source or AST object\\ncode = compile(\\'print(\"Hello, world!\")\\', \\'\\', \\'exec\\')\\nexec(code)', '_i33': '\\n# Create a complex number\\ncomplex_num = complex(2, 3)\\nprint(complex_num)', '_i34': '\\n# Delete an attribute from an object\\nclass Person:\\n    def __init__(self, name, age):\\n        self.name = name\\n        self.age = age\\n\\nperson = Person(\"Alice\", 25)\\n\\nprint(\"Before deletion:\")\\nprint(\"Name:\", person.name)\\nprint(\"Age:\", person.age)\\n\\ntry:\\n    delattr(person, \\'age\\')\\n    print(\"\\\\nAfter deletion:\")\\n    print(\"Name:\", person.name)\\n    print(\"Age:\", person.age)\\nexcept AttributeError:\\n    print(\"Attribute does not exist\")', '_i35': '\\n# Create a dictionary\\nmy_dict = dict(a=1, b=2, c=3)\\nprint(my_dict)', '_i36': '\\n# Get the list of names in the current namespace\\nnamespace_names = dir()\\nprint(namespace_names)', '_i37': '\\n# Perform integer division and return the quotient and remainder\\nquotient, remainder = divmod(10, 3)\\nprint(quotient, remainder)', 'quotient': 3, 'remainder': 1, '_i38': \"\\n# Enumerate over a list with index and value\\nfruits = ['apple', 'banana', 'cherry']\\nfor index, fruit in enumerate(fruits):\\n    print(index, fruit)\", 'fruits': ['apple', 'banana', 'cherry'], 'index': 2, 'fruit': 'cherry', '_i39': \"\\n# Evaluate a string as a Python expression\\nresult = eval('2 + 3')\\nprint(result)\", 'result': 5, '_i40': \"\\n# Execute Python code dynamically\\ncode = '''\\nx = 5\\nprint(x)\\n'''\\nexec(code)\", 'x': 5, '_i41': '\\n# Filter elements from an iterable based on a condition\\nnumbers = [1, 2, 3, 4, 5, 6]\\nfiltered_numbers = filter(lambda x: x % 2 == 0, numbers)\\nprint(list(filtered_numbers))', 'numbers': [1, 2, 3, 4, 5, 6], 'filtered_numbers': <filter object at 0x7fa1440df580>, '_i42': \"\\n# Convert a string or a number to a floating-point number\\nfloat_num = float('3.14')\\nprint(float_num)\", 'float_num': 3.14, '_i43': '\\n# Format a string with specified values\\nname = \\'Alice\\'\\nage = 25\\nformatted_string = format(\"My name is {} and I\\'m {} years old.\", name, age)\\nprint(formatted_string)', 'name': 'Alice', 'age': 25, '_i44': '\\n# Format a string with specified values\\nname = \\'Alice\\'\\nage = 25\\nformatted_string = \"My name is {} and I\\'m {} years old.\".format(name, age)\\nprint(formatted_string)', 'formatted_string': \"My name is Alice and I'm 25 years old.\", '_i45': '\\n# Create an immutable frozenset object\\nfrozen_set = frozenset([1, 2, 3])\\nprint(frozen_set)', 'frozen_set': frozenset({1, 2, 3}), '_i46': \"\\n# Get the value of an attribute from an object\\nclass Person:\\n    name = 'Alice'\\n\\nperson = Person()\\nname = getattr(person, 'name')\\nprint(name)\", '_i47': '\\n# Get a dictionary representing the current global symbol table\\nglobals_dict = globals()\\nprint(globals_dict)', 'globals_dict': {...}, '_i48': '# Absolute value of a number\\nabs_num = abs(-5)\\nprint(abs_num)', '_i49': '\\n# Check if all elements in a list are True\\nall_true = all([True, True, False])\\nprint(all_true)', '_i50': '\\n# Check if any element in a list is True\\nany_true = any([True, True, False])\\nprint(any_true)', '_i51': \"\\n# Get the ASCII representation of a character\\nascii_char = ascii('a')\\nprint(ascii_char)\", '_i52': '\\n# Convert an integer to a binary string\\nbinary_num = bin(10)\\nprint(binary_num)', '_i53': '\\n# Check if a value is a boolean\\nis_bool = bool(1)\\nprint(is_bool)', '_i54': \"\\n# Set a breakpoint for debugging\\ndef debug_function():\\n    breakpoint()\\n    print('Debugging...')\\n\\ndebug_function()\", '_i55': \"\\n# Create a mutable bytearray object\\nbyte_array = bytearray(b'Hello')\\nprint(byte_array)\", '_i56': \"\\n# Create a bytes object from a string\\nbyte_string = bytes('Hello', 'utf-8')\\nprint(byte_string)\", '_i57': '\\n# Check if an object is callable\\nis_callable = callable(print)\\nprint(is_callable)', '_i58': '\\n# Get the Unicode character for a given codepoint\\nunicode_char = chr(8364)\\nprint(unicode_char)', '_i59': \"\\n# Define a class method\\nclass MyClass:\\n    @classmethod\\n    def my_method(cls):\\n        print('Class method')\\n\\nMyClass.my_method()\", '_i60': '\\n# Compile a Python source or AST object\\ncode = compile(\\'print(\"Hello, world!\")\\', \\'\\', \\'exec\\')\\nexec(code)', '_i61': '\\n# Create a complex number\\ncomplex_num = complex(2, 3)\\nprint(complex_num)', '_i62': '\\n# Delete an attribute from an object\\nclass Person:\\n    def __init__(self, name, age):\\n        self.name = name\\n        self.age = age\\n\\nperson = Person(\"Alice\", 25)\\n\\nprint(\"Before deletion:\")\\nprint(\"Name:\", person.name)\\nprint(\"Age:\", person.age)\\n\\ntry:\\n    delattr(person, \\'age\\')\\n    print(\"\\\\nAfter deletion:\")\\n    print(\"Name:\", person.name)\\n    print(\"Age:\", person.age)\\nexcept AttributeError:\\n    print(\"Attribute does not exist\")', '_i63': '\\n# Create a dictionary\\nmy_dict = dict(a=1, b=2, c=3)\\nprint(my_dict)', '_i64': '\\n# Get the list of names in the current namespace\\nnamespace_names = dir()\\nprint(namespace_names)', '_i65': '\\n# Perform integer division and return the quotient and remainder\\nquotient, remainder = divmod(10, 3)\\nprint(quotient, remainder)', '_i66': \"\\n# Enumerate over a list with index and value\\nfruits = ['apple', 'banana', 'cherry']\\nfor index, fruit in enumerate(fruits):\\n    print(index, fruit)\", '_i67': \"\\n# Evaluate a string as a Python expression\\nresult = eval('2 + 3')\\nprint(result)\", '_i68': \"\\n# Execute Python code dynamically\\ncode = '''\\nx = 5\\nprint(x)\\n'''\\nexec(code)\", '_i69': '\\n# Filter elements from an iterable based on a condition\\nnumbers = [1, 2, 3, 4, 5, 6]\\nfiltered_numbers = filter(lambda x: x % 2 == 0, numbers)\\nprint(list(filtered_numbers))', '_i70': \"\\n# Convert a string or a number to a floating-point number\\nfloat_num = float('3.14')\\nprint(float_num)\", '_i71': '\\n# Format a string with specified values\\nname = \\'Alice\\'\\nage = 25\\nformatted_string = \"My name is {} and I\\'m {} years old.\".format(name, age)\\nprint(formatted_string)', '_i72': '\\n# Create an immutable frozenset object\\nfrozen_set = frozenset([1, 2, 3])\\nprint(frozen_set)', '_i73': \"\\n# Get the value of an attribute from an object\\nclass Person:\\n    name = 'Alice'\\n\\nperson = Person()\\nname = getattr(person, 'name')\\nprint(name)\", '_i74': '\\n# Get a dictionary representing the current global symbol table\\nglobals_dict = globals()\\nprint(globals_dict)'}\n"
     ]
    }
   ],
   "source": [
    "\n",
    "# Get a dictionary representing the current global symbol table\n",
    "globals_dict = globals()\n",
    "print(globals_dict)\n"
   ]
  },
  {
   "cell_type": "code",
   "execution_count": 75,
   "metadata": {},
   "outputs": [
    {
     "name": "stdout",
     "output_type": "stream",
     "text": [
      "True\n"
     ]
    }
   ],
   "source": [
    "\n",
    "# Check if an object has a certain attribute\n",
    "class MyClass:\n",
    "    x = 5\n",
    "\n",
    "my_obj = MyClass()\n",
    "has_x_attr = hasattr(my_obj, 'x')\n",
    "print(has_x_attr)\n"
   ]
  },
  {
   "cell_type": "code",
   "execution_count": 76,
   "metadata": {},
   "outputs": [
    {
     "name": "stdout",
     "output_type": "stream",
     "text": [
      "8276699043180737765\n"
     ]
    }
   ],
   "source": [
    "\n",
    "# Get the hash value of an object\n",
    "hash_value = hash('hello')\n",
    "print(hash_value)\n"
   ]
  },
  {
   "cell_type": "code",
   "execution_count": 77,
   "metadata": {},
   "outputs": [
    {
     "name": "stdout",
     "output_type": "stream",
     "text": [
      "Help on class list in module builtins:\n",
      "\n",
      "class list(object)\n",
      " |  list(iterable=(), /)\n",
      " |  \n",
      " |  Built-in mutable sequence.\n",
      " |  \n",
      " |  If no argument is given, the constructor creates a new empty list.\n",
      " |  The argument must be an iterable if specified.\n",
      " |  \n",
      " |  Methods defined here:\n",
      " |  \n",
      " |  __add__(self, value, /)\n",
      " |      Return self+value.\n",
      " |  \n",
      " |  __contains__(self, key, /)\n",
      " |      Return key in self.\n",
      " |  \n",
      " |  __delitem__(self, key, /)\n",
      " |      Delete self[key].\n",
      " |  \n",
      " |  __eq__(self, value, /)\n",
      " |      Return self==value.\n",
      " |  \n",
      " |  __ge__(self, value, /)\n",
      " |      Return self>=value.\n",
      " |  \n",
      " |  __getattribute__(self, name, /)\n",
      " |      Return getattr(self, name).\n",
      " |  \n",
      " |  __getitem__(...)\n",
      " |      x.__getitem__(y) <==> x[y]\n",
      " |  \n",
      " |  __gt__(self, value, /)\n",
      " |      Return self>value.\n",
      " |  \n",
      " |  __iadd__(self, value, /)\n",
      " |      Implement self+=value.\n",
      " |  \n",
      " |  __imul__(self, value, /)\n",
      " |      Implement self*=value.\n",
      " |  \n",
      " |  __init__(self, /, *args, **kwargs)\n",
      " |      Initialize self.  See help(type(self)) for accurate signature.\n",
      " |  \n",
      " |  __iter__(self, /)\n",
      " |      Implement iter(self).\n",
      " |  \n",
      " |  __le__(self, value, /)\n",
      " |      Return self<=value.\n",
      " |  \n",
      " |  __len__(self, /)\n",
      " |      Return len(self).\n",
      " |  \n",
      " |  __lt__(self, value, /)\n",
      " |      Return self<value.\n",
      " |  \n",
      " |  __mul__(self, value, /)\n",
      " |      Return self*value.\n",
      " |  \n",
      " |  __ne__(self, value, /)\n",
      " |      Return self!=value.\n",
      " |  \n",
      " |  __repr__(self, /)\n",
      " |      Return repr(self).\n",
      " |  \n",
      " |  __reversed__(self, /)\n",
      " |      Return a reverse iterator over the list.\n",
      " |  \n",
      " |  __rmul__(self, value, /)\n",
      " |      Return value*self.\n",
      " |  \n",
      " |  __setitem__(self, key, value, /)\n",
      " |      Set self[key] to value.\n",
      " |  \n",
      " |  __sizeof__(self, /)\n",
      " |      Return the size of the list in memory, in bytes.\n",
      " |  \n",
      " |  append(self, object, /)\n",
      " |      Append object to the end of the list.\n",
      " |  \n",
      " |  clear(self, /)\n",
      " |      Remove all items from list.\n",
      " |  \n",
      " |  copy(self, /)\n",
      " |      Return a shallow copy of the list.\n",
      " |  \n",
      " |  count(self, value, /)\n",
      " |      Return number of occurrences of value.\n",
      " |  \n",
      " |  extend(self, iterable, /)\n",
      " |      Extend list by appending elements from the iterable.\n",
      " |  \n",
      " |  index(self, value, start=0, stop=9223372036854775807, /)\n",
      " |      Return first index of value.\n",
      " |      \n",
      " |      Raises ValueError if the value is not present.\n",
      " |  \n",
      " |  insert(self, index, object, /)\n",
      " |      Insert object before index.\n",
      " |  \n",
      " |  pop(self, index=-1, /)\n",
      " |      Remove and return item at index (default last).\n",
      " |      \n",
      " |      Raises IndexError if list is empty or index is out of range.\n",
      " |  \n",
      " |  remove(self, value, /)\n",
      " |      Remove first occurrence of value.\n",
      " |      \n",
      " |      Raises ValueError if the value is not present.\n",
      " |  \n",
      " |  reverse(self, /)\n",
      " |      Reverse *IN PLACE*.\n",
      " |  \n",
      " |  sort(self, /, *, key=None, reverse=False)\n",
      " |      Sort the list in ascending order and return None.\n",
      " |      \n",
      " |      The sort is in-place (i.e. the list itself is modified) and stable (i.e. the\n",
      " |      order of two equal elements is maintained).\n",
      " |      \n",
      " |      If a key function is given, apply it once to each list item and sort them,\n",
      " |      ascending or descending, according to their function values.\n",
      " |      \n",
      " |      The reverse flag can be set to sort in descending order.\n",
      " |  \n",
      " |  ----------------------------------------------------------------------\n",
      " |  Class methods defined here:\n",
      " |  \n",
      " |  __class_getitem__(...) from builtins.type\n",
      " |      See PEP 585\n",
      " |  \n",
      " |  ----------------------------------------------------------------------\n",
      " |  Static methods defined here:\n",
      " |  \n",
      " |  __new__(*args, **kwargs) from builtins.type\n",
      " |      Create and return a new object.  See help(type) for accurate signature.\n",
      " |  \n",
      " |  ----------------------------------------------------------------------\n",
      " |  Data and other attributes defined here:\n",
      " |  \n",
      " |  __hash__ = None\n",
      "\n",
      "None\n"
     ]
    }
   ],
   "source": [
    "\n",
    "# Show the help documentation for an object\n",
    "help_list = help(list)\n",
    "print(help_list)\n"
   ]
  },
  {
   "cell_type": "code",
   "execution_count": 78,
   "metadata": {},
   "outputs": [
    {
     "name": "stdout",
     "output_type": "stream",
     "text": [
      "0xff\n"
     ]
    }
   ],
   "source": [
    "\n",
    "# Convert an integer to a lowercase hexadecimal string\n",
    "hex_string = hex(255)\n",
    "print(hex_string)\n"
   ]
  },
  {
   "cell_type": "code",
   "execution_count": 79,
   "metadata": {},
   "outputs": [
    {
     "name": "stdout",
     "output_type": "stream",
     "text": [
      "140330252667392\n"
     ]
    }
   ],
   "source": [
    "\n",
    "# Get the unique identifier of an object\n",
    "obj = object()\n",
    "obj_id = id(obj)\n",
    "print(obj_id)\n"
   ]
  },
  {
   "cell_type": "code",
   "execution_count": 80,
   "metadata": {},
   "outputs": [
    {
     "name": "stdout",
     "output_type": "stream",
     "text": [
      "josh\n"
     ]
    }
   ],
   "source": [
    "\n",
    "# Read input from the user\n",
    "user_input = input('Enter your name: ')\n",
    "print(user_input)\n"
   ]
  },
  {
   "cell_type": "code",
   "execution_count": 81,
   "metadata": {},
   "outputs": [
    {
     "name": "stdout",
     "output_type": "stream",
     "text": [
      "42\n"
     ]
    }
   ],
   "source": [
    "\n",
    "# Convert a value to an integer\n",
    "int_value = int('42')\n",
    "print(int_value)\n"
   ]
  },
  {
   "cell_type": "code",
   "execution_count": 82,
   "metadata": {},
   "outputs": [
    {
     "name": "stdout",
     "output_type": "stream",
     "text": [
      "True\n"
     ]
    }
   ],
   "source": [
    "\n",
    "# Check if an object is an instance of a class or a subclass\n",
    "is_instance = isinstance(5, int)\n",
    "print(is_instance)\n"
   ]
  },
  {
   "cell_type": "code",
   "execution_count": 83,
   "metadata": {},
   "outputs": [
    {
     "name": "stdout",
     "output_type": "stream",
     "text": [
      "True\n"
     ]
    }
   ],
   "source": [
    "\n",
    "# Check if a class is a subclass of another class\n",
    "is_subclass = issubclass(int, object)\n",
    "print(is_subclass)\n"
   ]
  },
  {
   "cell_type": "code",
   "execution_count": 84,
   "metadata": {},
   "outputs": [
    {
     "name": "stdout",
     "output_type": "stream",
     "text": [
      "1\n"
     ]
    }
   ],
   "source": [
    "\n",
    "# Create an iterator object\n",
    "numbers = [1, 2, 3]\n",
    "number_iter = iter(numbers)\n",
    "print(next(number_iter))\n"
   ]
  },
  {
   "cell_type": "code",
   "execution_count": 85,
   "metadata": {},
   "outputs": [
    {
     "name": "stdout",
     "output_type": "stream",
     "text": [
      "3\n"
     ]
    }
   ],
   "source": [
    "\n",
    "# Get the length of an object\n",
    "length = len([1, 2, 3])\n",
    "print(length)\n"
   ]
  },
  {
   "cell_type": "code",
   "execution_count": 86,
   "metadata": {},
   "outputs": [
    {
     "name": "stdout",
     "output_type": "stream",
     "text": [
      "[1, 2, 3]\n"
     ]
    }
   ],
   "source": [
    "\n",
    "# Convert an iterable to a list\n",
    "numbers = (1, 2, 3)\n",
    "number_list = list(numbers)\n",
    "print(number_list)\n"
   ]
  },
  {
   "cell_type": "code",
   "execution_count": 87,
   "metadata": {},
   "outputs": [
    {
     "name": "stdout",
     "output_type": "stream",
     "text": [
      "{'__name__': '__main__', '__doc__': 'Automatically created module for IPython interactive environment', '__package__': None, '__loader__': None, '__spec__': None, '__builtin__': <module 'builtins' (built-in)>, '__builtins__': <module 'builtins' (built-in)>, '_ih': ['', '# Absolute value of a number\\nabs_num = abs(-5)\\nprint(abs_num)', '# Check if all elements in a list are True\\nall_true = all([True, True, False])\\nprint(all_true)', '# Check if any element in a list is True\\nany_true = any([True, True, False])\\nprint(any_true)', \"# Get the ASCII representation of a character\\nascii_char = ascii('a')\\nprint(ascii_char)\", '# Convert an integer to a binary string\\nbinary_num = bin(10)\\nprint(binary_num)', '# Check if a value is a boolean\\nis_bool = bool(1)\\nprint(is_bool)', \"# Set a breakpoint for debugging\\ndef debug_function():\\n    breakpoint()\\n    print('Debugging...')\\n\\ndebug_function()\", \"# Create a mutable bytearray object\\nbyte_array = bytearray(b'Hello')\\nprint(byte_array)\", \"# Create a bytes object from a string\\nbyte_string = bytes('Hello', 'utf-8')\\nprint(byte_string)\", '# Check if an object is callable\\nis_callable = callable(print)\\nprint(is_callable)', '# Get the Unicode character for a given codepoint\\nunicode_char = chr(8364)\\nprint(unicode_char)', \"# Define a class method\\nclass MyClass:\\n    @classmethod\\n    def my_method(cls):\\n        print('Class method')\\n\\nMyClass.my_method()\", '# Compile a Python source or AST object\\ncode = compile(\\'print(\"Hello, world!\")\\', \\'\\', \\'exec\\')\\nexec(code)', '# Create a complex number\\ncomplex_num = complex(2, 3)\\nprint(complex_num)', \"# Delete an attribute from an object\\nclass MyObject:\\n    x = 5\\n\\nobj = MyObject()\\ndelattr(obj, 'x')\\nprint(hasattr(obj, 'x'))\", '# Delete an attribute from an object\\nclass MyObject:\\n    x = 5\\n\\nobj = MyObject()\\n\\ntry:\\n    delattr(obj, \\'x\\')\\n    print(hasattr(obj, \\'x\\'))\\nexcept AttributeError:\\n    print(\"Attribute does not exist\")', '# Delete an attribute from an object\\nclass Person:\\n    def __init__(self, name, age):\\n        self.name = name\\n        self.age = age\\n\\nperson = Person(\"Alice\", 25)\\n\\nprint(\"Before deletion:\")\\nprint(\"Name:\", person.name)\\nprint(\"Age:\", person.age)\\n\\ntry:\\n    delattr(person, \\'age\\')\\n    print(\"\\\\nAfter deletion:\")\\n    print(\"Name:\", person.name)\\n    print(\"Age:\", person.age)\\nexcept AttributeError:\\n    print(\"Attribute does not exist\")', '# Create a dictionary\\nmy_dict = dict(a=1, b=2, c=3)\\nprint(my_dict)', '# Get the list of names in the current namespace\\nnamespace_names = dir()\\nprint(namespace_names)', '# Absolute value of a number\\nabs_num = abs(-5)\\nprint(abs_num)', '# Check if all elements in a list are True\\nall_true = all([True, True, False])\\nprint(all_true)', '# Check if any element in a list is True\\nany_true = any([True, True, False])\\nprint(any_true)', \"# Get the ASCII representation of a character\\nascii_char = ascii('a')\\nprint(ascii_char)\", '# Convert an integer to a binary string\\nbinary_num = bin(10)\\nprint(binary_num)', '# Check if a value is a boolean\\nis_bool = bool(1)\\nprint(is_bool)', \"# Set a breakpoint for debugging\\ndef debug_function():\\n    breakpoint()\\n    print('Debugging...')\\n\\ndebug_function()\", \"# Create a mutable bytearray object\\nbyte_array = bytearray(b'Hello')\\nprint(byte_array)\", \"# Create a bytes object from a string\\nbyte_string = bytes('Hello', 'utf-8')\\nprint(byte_string)\", '# Check if an object is callable\\nis_callable = callable(print)\\nprint(is_callable)', '# Get the Unicode character for a given codepoint\\nunicode_char = chr(8364)\\nprint(unicode_char)', \"# Define a class method\\nclass MyClass:\\n    @classmethod\\n    def my_method(cls):\\n        print('Class method')\\n\\nMyClass.my_method()\", '# Compile a Python source or AST object\\ncode = compile(\\'print(\"Hello, world!\")\\', \\'\\', \\'exec\\')\\nexec(code)', '# Create a complex number\\ncomplex_num = complex(2, 3)\\nprint(complex_num)', '# Delete an attribute from an object\\nclass Person:\\n    def __init__(self, name, age):\\n        self.name = name\\n        self.age = age\\n\\nperson = Person(\"Alice\", 25)\\n\\nprint(\"Before deletion:\")\\nprint(\"Name:\", person.name)\\nprint(\"Age:\", person.age)\\n\\ntry:\\n    delattr(person, \\'age\\')\\n    print(\"\\\\nAfter deletion:\")\\n    print(\"Name:\", person.name)\\n    print(\"Age:\", person.age)\\nexcept AttributeError:\\n    print(\"Attribute does not exist\")', '# Create a dictionary\\nmy_dict = dict(a=1, b=2, c=3)\\nprint(my_dict)', '# Get the list of names in the current namespace\\nnamespace_names = dir()\\nprint(namespace_names)', '# Perform integer division and return the quotient and remainder\\nquotient, remainder = divmod(10, 3)\\nprint(quotient, remainder)', \"# Enumerate over a list with index and value\\nfruits = ['apple', 'banana', 'cherry']\\nfor index, fruit in enumerate(fruits):\\n    print(index, fruit)\", \"# Evaluate a string as a Python expression\\nresult = eval('2 + 3')\\nprint(result)\", \"# Execute Python code dynamically\\ncode = '''\\nx = 5\\nprint(x)\\n'''\\nexec(code)\", '# Filter elements from an iterable based on a condition\\nnumbers = [1, 2, 3, 4, 5, 6]\\nfiltered_numbers = filter(lambda x: x % 2 == 0, numbers)\\nprint(list(filtered_numbers))', \"# Convert a string or a number to a floating-point number\\nfloat_num = float('3.14')\\nprint(float_num)\", '# Format a string with specified values\\nname = \\'Alice\\'\\nage = 25\\nformatted_string = format(\"My name is {} and I\\'m {} years old.\", name, age)\\nprint(formatted_string)', '# Format a string with specified values\\nname = \\'Alice\\'\\nage = 25\\nformatted_string = \"My name is {} and I\\'m {} years old.\".format(name, age)\\nprint(formatted_string)', '# Create an immutable frozenset object\\nfrozen_set = frozenset([1, 2, 3])\\nprint(frozen_set)', \"# Get the value of an attribute from an object\\nclass Person:\\n    name = 'Alice'\\n\\nperson = Person()\\nname = getattr(person, 'name')\\nprint(name)\", '# Get a dictionary representing the current global symbol table\\nglobals_dict = globals()\\nprint(globals_dict)', '# Absolute value of a number\\nabs_num = abs(-5)\\nprint(abs_num)', '# Check if all elements in a list are True\\nall_true = all([True, True, False])\\nprint(all_true)', '# Check if any element in a list is True\\nany_true = any([True, True, False])\\nprint(any_true)', \"# Get the ASCII representation of a character\\nascii_char = ascii('a')\\nprint(ascii_char)\", '# Convert an integer to a binary string\\nbinary_num = bin(10)\\nprint(binary_num)', '# Check if a value is a boolean\\nis_bool = bool(1)\\nprint(is_bool)', \"# Set a breakpoint for debugging\\ndef debug_function():\\n    breakpoint()\\n    print('Debugging...')\\n\\ndebug_function()\", \"# Create a mutable bytearray object\\nbyte_array = bytearray(b'Hello')\\nprint(byte_array)\", \"# Create a bytes object from a string\\nbyte_string = bytes('Hello', 'utf-8')\\nprint(byte_string)\", '# Check if an object is callable\\nis_callable = callable(print)\\nprint(is_callable)', '# Get the Unicode character for a given codepoint\\nunicode_char = chr(8364)\\nprint(unicode_char)', \"# Define a class method\\nclass MyClass:\\n    @classmethod\\n    def my_method(cls):\\n        print('Class method')\\n\\nMyClass.my_method()\", '# Compile a Python source or AST object\\ncode = compile(\\'print(\"Hello, world!\")\\', \\'\\', \\'exec\\')\\nexec(code)', '# Create a complex number\\ncomplex_num = complex(2, 3)\\nprint(complex_num)', '# Delete an attribute from an object\\nclass Person:\\n    def __init__(self, name, age):\\n        self.name = name\\n        self.age = age\\n\\nperson = Person(\"Alice\", 25)\\n\\nprint(\"Before deletion:\")\\nprint(\"Name:\", person.name)\\nprint(\"Age:\", person.age)\\n\\ntry:\\n    delattr(person, \\'age\\')\\n    print(\"\\\\nAfter deletion:\")\\n    print(\"Name:\", person.name)\\n    print(\"Age:\", person.age)\\nexcept AttributeError:\\n    print(\"Attribute does not exist\")', '# Create a dictionary\\nmy_dict = dict(a=1, b=2, c=3)\\nprint(my_dict)', '# Get the list of names in the current namespace\\nnamespace_names = dir()\\nprint(namespace_names)', '# Perform integer division and return the quotient and remainder\\nquotient, remainder = divmod(10, 3)\\nprint(quotient, remainder)', \"# Enumerate over a list with index and value\\nfruits = ['apple', 'banana', 'cherry']\\nfor index, fruit in enumerate(fruits):\\n    print(index, fruit)\", \"# Evaluate a string as a Python expression\\nresult = eval('2 + 3')\\nprint(result)\", \"# Execute Python code dynamically\\ncode = '''\\nx = 5\\nprint(x)\\n'''\\nexec(code)\", '# Filter elements from an iterable based on a condition\\nnumbers = [1, 2, 3, 4, 5, 6]\\nfiltered_numbers = filter(lambda x: x % 2 == 0, numbers)\\nprint(list(filtered_numbers))', \"# Convert a string or a number to a floating-point number\\nfloat_num = float('3.14')\\nprint(float_num)\", '# Format a string with specified values\\nname = \\'Alice\\'\\nage = 25\\nformatted_string = \"My name is {} and I\\'m {} years old.\".format(name, age)\\nprint(formatted_string)', '# Create an immutable frozenset object\\nfrozen_set = frozenset([1, 2, 3])\\nprint(frozen_set)', \"# Get the value of an attribute from an object\\nclass Person:\\n    name = 'Alice'\\n\\nperson = Person()\\nname = getattr(person, 'name')\\nprint(name)\", '# Get a dictionary representing the current global symbol table\\nglobals_dict = globals()\\nprint(globals_dict)', \"# Check if an object has a certain attribute\\nclass MyClass:\\n    x = 5\\n\\nmy_obj = MyClass()\\nhas_x_attr = hasattr(my_obj, 'x')\\nprint(has_x_attr)\", \"# Get the hash value of an object\\nhash_value = hash('hello')\\nprint(hash_value)\", '# Show the help documentation for an object\\nhelp_list = help(list)\\nprint(help_list)', '# Convert an integer to a lowercase hexadecimal string\\nhex_string = hex(255)\\nprint(hex_string)', '# Get the unique identifier of an object\\nobj = object()\\nobj_id = id(obj)\\nprint(obj_id)', \"# Read input from the user\\nuser_input = input('Enter your name: ')\\nprint(user_input)\", \"# Convert a value to an integer\\nint_value = int('42')\\nprint(int_value)\", '# Check if an object is an instance of a class or a subclass\\nis_instance = isinstance(5, int)\\nprint(is_instance)', '# Check if a class is a subclass of another class\\nis_subclass = issubclass(int, object)\\nprint(is_subclass)', '# Create an iterator object\\nnumbers = [1, 2, 3]\\nnumber_iter = iter(numbers)\\nprint(next(number_iter))', '# Get the length of an object\\nlength = len([1, 2, 3])\\nprint(length)', '# Convert an iterable to a list\\nnumbers = (1, 2, 3)\\nnumber_list = list(numbers)\\nprint(number_list)', '# Get a dictionary representing the current local symbol table\\nlocals_dict = locals()\\nprint(locals_dict)'], '_oh': {}, '_dh': [PosixPath('/home/josh/Code/jupyter'), PosixPath('/home/josh/Code/jupyter')], 'In': ['', '# Absolute value of a number\\nabs_num = abs(-5)\\nprint(abs_num)', '# Check if all elements in a list are True\\nall_true = all([True, True, False])\\nprint(all_true)', '# Check if any element in a list is True\\nany_true = any([True, True, False])\\nprint(any_true)', \"# Get the ASCII representation of a character\\nascii_char = ascii('a')\\nprint(ascii_char)\", '# Convert an integer to a binary string\\nbinary_num = bin(10)\\nprint(binary_num)', '# Check if a value is a boolean\\nis_bool = bool(1)\\nprint(is_bool)', \"# Set a breakpoint for debugging\\ndef debug_function():\\n    breakpoint()\\n    print('Debugging...')\\n\\ndebug_function()\", \"# Create a mutable bytearray object\\nbyte_array = bytearray(b'Hello')\\nprint(byte_array)\", \"# Create a bytes object from a string\\nbyte_string = bytes('Hello', 'utf-8')\\nprint(byte_string)\", '# Check if an object is callable\\nis_callable = callable(print)\\nprint(is_callable)', '# Get the Unicode character for a given codepoint\\nunicode_char = chr(8364)\\nprint(unicode_char)', \"# Define a class method\\nclass MyClass:\\n    @classmethod\\n    def my_method(cls):\\n        print('Class method')\\n\\nMyClass.my_method()\", '# Compile a Python source or AST object\\ncode = compile(\\'print(\"Hello, world!\")\\', \\'\\', \\'exec\\')\\nexec(code)', '# Create a complex number\\ncomplex_num = complex(2, 3)\\nprint(complex_num)', \"# Delete an attribute from an object\\nclass MyObject:\\n    x = 5\\n\\nobj = MyObject()\\ndelattr(obj, 'x')\\nprint(hasattr(obj, 'x'))\", '# Delete an attribute from an object\\nclass MyObject:\\n    x = 5\\n\\nobj = MyObject()\\n\\ntry:\\n    delattr(obj, \\'x\\')\\n    print(hasattr(obj, \\'x\\'))\\nexcept AttributeError:\\n    print(\"Attribute does not exist\")', '# Delete an attribute from an object\\nclass Person:\\n    def __init__(self, name, age):\\n        self.name = name\\n        self.age = age\\n\\nperson = Person(\"Alice\", 25)\\n\\nprint(\"Before deletion:\")\\nprint(\"Name:\", person.name)\\nprint(\"Age:\", person.age)\\n\\ntry:\\n    delattr(person, \\'age\\')\\n    print(\"\\\\nAfter deletion:\")\\n    print(\"Name:\", person.name)\\n    print(\"Age:\", person.age)\\nexcept AttributeError:\\n    print(\"Attribute does not exist\")', '# Create a dictionary\\nmy_dict = dict(a=1, b=2, c=3)\\nprint(my_dict)', '# Get the list of names in the current namespace\\nnamespace_names = dir()\\nprint(namespace_names)', '# Absolute value of a number\\nabs_num = abs(-5)\\nprint(abs_num)', '# Check if all elements in a list are True\\nall_true = all([True, True, False])\\nprint(all_true)', '# Check if any element in a list is True\\nany_true = any([True, True, False])\\nprint(any_true)', \"# Get the ASCII representation of a character\\nascii_char = ascii('a')\\nprint(ascii_char)\", '# Convert an integer to a binary string\\nbinary_num = bin(10)\\nprint(binary_num)', '# Check if a value is a boolean\\nis_bool = bool(1)\\nprint(is_bool)', \"# Set a breakpoint for debugging\\ndef debug_function():\\n    breakpoint()\\n    print('Debugging...')\\n\\ndebug_function()\", \"# Create a mutable bytearray object\\nbyte_array = bytearray(b'Hello')\\nprint(byte_array)\", \"# Create a bytes object from a string\\nbyte_string = bytes('Hello', 'utf-8')\\nprint(byte_string)\", '# Check if an object is callable\\nis_callable = callable(print)\\nprint(is_callable)', '# Get the Unicode character for a given codepoint\\nunicode_char = chr(8364)\\nprint(unicode_char)', \"# Define a class method\\nclass MyClass:\\n    @classmethod\\n    def my_method(cls):\\n        print('Class method')\\n\\nMyClass.my_method()\", '# Compile a Python source or AST object\\ncode = compile(\\'print(\"Hello, world!\")\\', \\'\\', \\'exec\\')\\nexec(code)', '# Create a complex number\\ncomplex_num = complex(2, 3)\\nprint(complex_num)', '# Delete an attribute from an object\\nclass Person:\\n    def __init__(self, name, age):\\n        self.name = name\\n        self.age = age\\n\\nperson = Person(\"Alice\", 25)\\n\\nprint(\"Before deletion:\")\\nprint(\"Name:\", person.name)\\nprint(\"Age:\", person.age)\\n\\ntry:\\n    delattr(person, \\'age\\')\\n    print(\"\\\\nAfter deletion:\")\\n    print(\"Name:\", person.name)\\n    print(\"Age:\", person.age)\\nexcept AttributeError:\\n    print(\"Attribute does not exist\")', '# Create a dictionary\\nmy_dict = dict(a=1, b=2, c=3)\\nprint(my_dict)', '# Get the list of names in the current namespace\\nnamespace_names = dir()\\nprint(namespace_names)', '# Perform integer division and return the quotient and remainder\\nquotient, remainder = divmod(10, 3)\\nprint(quotient, remainder)', \"# Enumerate over a list with index and value\\nfruits = ['apple', 'banana', 'cherry']\\nfor index, fruit in enumerate(fruits):\\n    print(index, fruit)\", \"# Evaluate a string as a Python expression\\nresult = eval('2 + 3')\\nprint(result)\", \"# Execute Python code dynamically\\ncode = '''\\nx = 5\\nprint(x)\\n'''\\nexec(code)\", '# Filter elements from an iterable based on a condition\\nnumbers = [1, 2, 3, 4, 5, 6]\\nfiltered_numbers = filter(lambda x: x % 2 == 0, numbers)\\nprint(list(filtered_numbers))', \"# Convert a string or a number to a floating-point number\\nfloat_num = float('3.14')\\nprint(float_num)\", '# Format a string with specified values\\nname = \\'Alice\\'\\nage = 25\\nformatted_string = format(\"My name is {} and I\\'m {} years old.\", name, age)\\nprint(formatted_string)', '# Format a string with specified values\\nname = \\'Alice\\'\\nage = 25\\nformatted_string = \"My name is {} and I\\'m {} years old.\".format(name, age)\\nprint(formatted_string)', '# Create an immutable frozenset object\\nfrozen_set = frozenset([1, 2, 3])\\nprint(frozen_set)', \"# Get the value of an attribute from an object\\nclass Person:\\n    name = 'Alice'\\n\\nperson = Person()\\nname = getattr(person, 'name')\\nprint(name)\", '# Get a dictionary representing the current global symbol table\\nglobals_dict = globals()\\nprint(globals_dict)', '# Absolute value of a number\\nabs_num = abs(-5)\\nprint(abs_num)', '# Check if all elements in a list are True\\nall_true = all([True, True, False])\\nprint(all_true)', '# Check if any element in a list is True\\nany_true = any([True, True, False])\\nprint(any_true)', \"# Get the ASCII representation of a character\\nascii_char = ascii('a')\\nprint(ascii_char)\", '# Convert an integer to a binary string\\nbinary_num = bin(10)\\nprint(binary_num)', '# Check if a value is a boolean\\nis_bool = bool(1)\\nprint(is_bool)', \"# Set a breakpoint for debugging\\ndef debug_function():\\n    breakpoint()\\n    print('Debugging...')\\n\\ndebug_function()\", \"# Create a mutable bytearray object\\nbyte_array = bytearray(b'Hello')\\nprint(byte_array)\", \"# Create a bytes object from a string\\nbyte_string = bytes('Hello', 'utf-8')\\nprint(byte_string)\", '# Check if an object is callable\\nis_callable = callable(print)\\nprint(is_callable)', '# Get the Unicode character for a given codepoint\\nunicode_char = chr(8364)\\nprint(unicode_char)', \"# Define a class method\\nclass MyClass:\\n    @classmethod\\n    def my_method(cls):\\n        print('Class method')\\n\\nMyClass.my_method()\", '# Compile a Python source or AST object\\ncode = compile(\\'print(\"Hello, world!\")\\', \\'\\', \\'exec\\')\\nexec(code)', '# Create a complex number\\ncomplex_num = complex(2, 3)\\nprint(complex_num)', '# Delete an attribute from an object\\nclass Person:\\n    def __init__(self, name, age):\\n        self.name = name\\n        self.age = age\\n\\nperson = Person(\"Alice\", 25)\\n\\nprint(\"Before deletion:\")\\nprint(\"Name:\", person.name)\\nprint(\"Age:\", person.age)\\n\\ntry:\\n    delattr(person, \\'age\\')\\n    print(\"\\\\nAfter deletion:\")\\n    print(\"Name:\", person.name)\\n    print(\"Age:\", person.age)\\nexcept AttributeError:\\n    print(\"Attribute does not exist\")', '# Create a dictionary\\nmy_dict = dict(a=1, b=2, c=3)\\nprint(my_dict)', '# Get the list of names in the current namespace\\nnamespace_names = dir()\\nprint(namespace_names)', '# Perform integer division and return the quotient and remainder\\nquotient, remainder = divmod(10, 3)\\nprint(quotient, remainder)', \"# Enumerate over a list with index and value\\nfruits = ['apple', 'banana', 'cherry']\\nfor index, fruit in enumerate(fruits):\\n    print(index, fruit)\", \"# Evaluate a string as a Python expression\\nresult = eval('2 + 3')\\nprint(result)\", \"# Execute Python code dynamically\\ncode = '''\\nx = 5\\nprint(x)\\n'''\\nexec(code)\", '# Filter elements from an iterable based on a condition\\nnumbers = [1, 2, 3, 4, 5, 6]\\nfiltered_numbers = filter(lambda x: x % 2 == 0, numbers)\\nprint(list(filtered_numbers))', \"# Convert a string or a number to a floating-point number\\nfloat_num = float('3.14')\\nprint(float_num)\", '# Format a string with specified values\\nname = \\'Alice\\'\\nage = 25\\nformatted_string = \"My name is {} and I\\'m {} years old.\".format(name, age)\\nprint(formatted_string)', '# Create an immutable frozenset object\\nfrozen_set = frozenset([1, 2, 3])\\nprint(frozen_set)', \"# Get the value of an attribute from an object\\nclass Person:\\n    name = 'Alice'\\n\\nperson = Person()\\nname = getattr(person, 'name')\\nprint(name)\", '# Get a dictionary representing the current global symbol table\\nglobals_dict = globals()\\nprint(globals_dict)', \"# Check if an object has a certain attribute\\nclass MyClass:\\n    x = 5\\n\\nmy_obj = MyClass()\\nhas_x_attr = hasattr(my_obj, 'x')\\nprint(has_x_attr)\", \"# Get the hash value of an object\\nhash_value = hash('hello')\\nprint(hash_value)\", '# Show the help documentation for an object\\nhelp_list = help(list)\\nprint(help_list)', '# Convert an integer to a lowercase hexadecimal string\\nhex_string = hex(255)\\nprint(hex_string)', '# Get the unique identifier of an object\\nobj = object()\\nobj_id = id(obj)\\nprint(obj_id)', \"# Read input from the user\\nuser_input = input('Enter your name: ')\\nprint(user_input)\", \"# Convert a value to an integer\\nint_value = int('42')\\nprint(int_value)\", '# Check if an object is an instance of a class or a subclass\\nis_instance = isinstance(5, int)\\nprint(is_instance)', '# Check if a class is a subclass of another class\\nis_subclass = issubclass(int, object)\\nprint(is_subclass)', '# Create an iterator object\\nnumbers = [1, 2, 3]\\nnumber_iter = iter(numbers)\\nprint(next(number_iter))', '# Get the length of an object\\nlength = len([1, 2, 3])\\nprint(length)', '# Convert an iterable to a list\\nnumbers = (1, 2, 3)\\nnumber_list = list(numbers)\\nprint(number_list)', '# Get a dictionary representing the current local symbol table\\nlocals_dict = locals()\\nprint(locals_dict)'], 'Out': {}, 'get_ipython': <bound method InteractiveShell.get_ipython of <ipykernel.zmqshell.ZMQInteractiveShell object at 0x7fa14837c670>>, 'exit': <IPython.core.autocall.ZMQExitAutocall object at 0x7fa14837d3c0>, 'quit': <IPython.core.autocall.ZMQExitAutocall object at 0x7fa14837d3c0>, 'open': <function open at 0x7fa149402440>, '_': '', '__': '', '___': '', '__vsc_ipynb_file__': '/home/josh/Code/jupyter/68functions.ipynb', '_i': '\\n# Convert an iterable to a list\\nnumbers = (1, 2, 3)\\nnumber_list = list(numbers)\\nprint(number_list)', '_ii': '\\n# Get the length of an object\\nlength = len([1, 2, 3])\\nprint(length)', '_iii': '\\n# Create an iterator object\\nnumbers = [1, 2, 3]\\nnumber_iter = iter(numbers)\\nprint(next(number_iter))', '_i1': '# Absolute value of a number\\nabs_num = abs(-5)\\nprint(abs_num)', 'abs_num': 5, '_i2': '\\n# Check if all elements in a list are True\\nall_true = all([True, True, False])\\nprint(all_true)', 'all_true': False, '_i3': '\\n# Check if any element in a list is True\\nany_true = any([True, True, False])\\nprint(any_true)', 'any_true': True, '_i4': \"\\n# Get the ASCII representation of a character\\nascii_char = ascii('a')\\nprint(ascii_char)\", 'ascii_char': \"'a'\", '_i5': '\\n# Convert an integer to a binary string\\nbinary_num = bin(10)\\nprint(binary_num)', 'binary_num': '0b1010', '_i6': '\\n# Check if a value is a boolean\\nis_bool = bool(1)\\nprint(is_bool)', 'is_bool': True, '_i7': \"\\n# Set a breakpoint for debugging\\ndef debug_function():\\n    breakpoint()\\n    print('Debugging...')\\n\\ndebug_function()\", 'debug_function': <function debug_function at 0x7fa12ecacd30>, '_i8': \"\\n# Create a mutable bytearray object\\nbyte_array = bytearray(b'Hello')\\nprint(byte_array)\", 'byte_array': bytearray(b'Hello'), '_i9': \"\\n# Create a bytes object from a string\\nbyte_string = bytes('Hello', 'utf-8')\\nprint(byte_string)\", 'byte_string': b'Hello', '_i10': '\\n# Check if an object is callable\\nis_callable = callable(print)\\nprint(is_callable)', 'is_callable': True, '_i11': '\\n# Get the Unicode character for a given codepoint\\nunicode_char = chr(8364)\\nprint(unicode_char)', 'unicode_char': '€', '_i12': \"\\n# Define a class method\\nclass MyClass:\\n    @classmethod\\n    def my_method(cls):\\n        print('Class method')\\n\\nMyClass.my_method()\", 'MyClass': <class '__main__.MyClass'>, '_i13': '\\n# Compile a Python source or AST object\\ncode = compile(\\'print(\"Hello, world!\")\\', \\'\\', \\'exec\\')\\nexec(code)', 'code': '\\nx = 5\\nprint(x)\\n', '_i14': '\\n# Create a complex number\\ncomplex_num = complex(2, 3)\\nprint(complex_num)', 'complex_num': (2+3j), '_i15': \"\\n# Delete an attribute from an object\\nclass MyObject:\\n    x = 5\\n\\nobj = MyObject()\\ndelattr(obj, 'x')\\nprint(hasattr(obj, 'x'))\", 'MyObject': <class '__main__.MyObject'>, 'obj': <object object at 0x7fa12edc8a00>, '_i16': '\\n# Delete an attribute from an object\\nclass MyObject:\\n    x = 5\\n\\nobj = MyObject()\\n\\ntry:\\n    delattr(obj, \\'x\\')\\n    print(hasattr(obj, \\'x\\'))\\nexcept AttributeError:\\n    print(\"Attribute does not exist\")', '_i17': '\\n# Delete an attribute from an object\\nclass Person:\\n    def __init__(self, name, age):\\n        self.name = name\\n        self.age = age\\n\\nperson = Person(\"Alice\", 25)\\n\\nprint(\"Before deletion:\")\\nprint(\"Name:\", person.name)\\nprint(\"Age:\", person.age)\\n\\ntry:\\n    delattr(person, \\'age\\')\\n    print(\"\\\\nAfter deletion:\")\\n    print(\"Name:\", person.name)\\n    print(\"Age:\", person.age)\\nexcept AttributeError:\\n    print(\"Attribute does not exist\")', 'Person': <class '__main__.Person'>, 'person': <__main__.Person object at 0x7fa1483b8df0>, '_i18': '\\n# Create a dictionary\\nmy_dict = dict(a=1, b=2, c=3)\\nprint(my_dict)', 'my_dict': {'a': 1, 'b': 2, 'c': 3}, '_i19': '\\n# Get the list of names in the current namespace\\nnamespace_names = dir()\\nprint(namespace_names)', 'namespace_names': ['In', 'MyClass', 'MyObject', 'Out', 'Person', '_', '__', '___', '__builtin__', '__builtins__', '__doc__', '__loader__', '__name__', '__package__', '__spec__', '__vsc_ipynb_file__', '_dh', '_i', '_i1', '_i10', '_i11', '_i12', '_i13', '_i14', '_i15', '_i16', '_i17', '_i18', '_i19', '_i2', '_i20', '_i21', '_i22', '_i23', '_i24', '_i25', '_i26', '_i27', '_i28', '_i29', '_i3', '_i30', '_i31', '_i32', '_i33', '_i34', '_i35', '_i36', '_i37', '_i38', '_i39', '_i4', '_i40', '_i41', '_i42', '_i43', '_i44', '_i45', '_i46', '_i47', '_i48', '_i49', '_i5', '_i50', '_i51', '_i52', '_i53', '_i54', '_i55', '_i56', '_i57', '_i58', '_i59', '_i6', '_i60', '_i61', '_i62', '_i63', '_i64', '_i7', '_i8', '_i9', '_ih', '_ii', '_iii', '_oh', 'abs_num', 'age', 'all_true', 'any_true', 'ascii_char', 'binary_num', 'byte_array', 'byte_string', 'code', 'complex_num', 'debug_function', 'exit', 'filtered_numbers', 'float_num', 'formatted_string', 'frozen_set', 'fruit', 'fruits', 'get_ipython', 'globals_dict', 'index', 'is_bool', 'is_callable', 'my_dict', 'name', 'namespace_names', 'numbers', 'obj', 'open', 'person', 'quit', 'quotient', 'remainder', 'result', 'unicode_char', 'x'], '_i20': '# Absolute value of a number\\nabs_num = abs(-5)\\nprint(abs_num)', '_i21': '\\n# Check if all elements in a list are True\\nall_true = all([True, True, False])\\nprint(all_true)', '_i22': '\\n# Check if any element in a list is True\\nany_true = any([True, True, False])\\nprint(any_true)', '_i23': \"\\n# Get the ASCII representation of a character\\nascii_char = ascii('a')\\nprint(ascii_char)\", '_i24': '\\n# Convert an integer to a binary string\\nbinary_num = bin(10)\\nprint(binary_num)', '_i25': '\\n# Check if a value is a boolean\\nis_bool = bool(1)\\nprint(is_bool)', '_i26': \"\\n# Set a breakpoint for debugging\\ndef debug_function():\\n    breakpoint()\\n    print('Debugging...')\\n\\ndebug_function()\", '_i27': \"\\n# Create a mutable bytearray object\\nbyte_array = bytearray(b'Hello')\\nprint(byte_array)\", '_i28': \"\\n# Create a bytes object from a string\\nbyte_string = bytes('Hello', 'utf-8')\\nprint(byte_string)\", '_i29': '\\n# Check if an object is callable\\nis_callable = callable(print)\\nprint(is_callable)', '_i30': '\\n# Get the Unicode character for a given codepoint\\nunicode_char = chr(8364)\\nprint(unicode_char)', '_i31': \"\\n# Define a class method\\nclass MyClass:\\n    @classmethod\\n    def my_method(cls):\\n        print('Class method')\\n\\nMyClass.my_method()\", '_i32': '\\n# Compile a Python source or AST object\\ncode = compile(\\'print(\"Hello, world!\")\\', \\'\\', \\'exec\\')\\nexec(code)', '_i33': '\\n# Create a complex number\\ncomplex_num = complex(2, 3)\\nprint(complex_num)', '_i34': '\\n# Delete an attribute from an object\\nclass Person:\\n    def __init__(self, name, age):\\n        self.name = name\\n        self.age = age\\n\\nperson = Person(\"Alice\", 25)\\n\\nprint(\"Before deletion:\")\\nprint(\"Name:\", person.name)\\nprint(\"Age:\", person.age)\\n\\ntry:\\n    delattr(person, \\'age\\')\\n    print(\"\\\\nAfter deletion:\")\\n    print(\"Name:\", person.name)\\n    print(\"Age:\", person.age)\\nexcept AttributeError:\\n    print(\"Attribute does not exist\")', '_i35': '\\n# Create a dictionary\\nmy_dict = dict(a=1, b=2, c=3)\\nprint(my_dict)', '_i36': '\\n# Get the list of names in the current namespace\\nnamespace_names = dir()\\nprint(namespace_names)', '_i37': '\\n# Perform integer division and return the quotient and remainder\\nquotient, remainder = divmod(10, 3)\\nprint(quotient, remainder)', 'quotient': 3, 'remainder': 1, '_i38': \"\\n# Enumerate over a list with index and value\\nfruits = ['apple', 'banana', 'cherry']\\nfor index, fruit in enumerate(fruits):\\n    print(index, fruit)\", 'fruits': ['apple', 'banana', 'cherry'], 'index': 2, 'fruit': 'cherry', '_i39': \"\\n# Evaluate a string as a Python expression\\nresult = eval('2 + 3')\\nprint(result)\", 'result': 5, '_i40': \"\\n# Execute Python code dynamically\\ncode = '''\\nx = 5\\nprint(x)\\n'''\\nexec(code)\", 'x': 5, '_i41': '\\n# Filter elements from an iterable based on a condition\\nnumbers = [1, 2, 3, 4, 5, 6]\\nfiltered_numbers = filter(lambda x: x % 2 == 0, numbers)\\nprint(list(filtered_numbers))', 'numbers': (1, 2, 3), 'filtered_numbers': <filter object at 0x7fa1440df580>, '_i42': \"\\n# Convert a string or a number to a floating-point number\\nfloat_num = float('3.14')\\nprint(float_num)\", 'float_num': 3.14, '_i43': '\\n# Format a string with specified values\\nname = \\'Alice\\'\\nage = 25\\nformatted_string = format(\"My name is {} and I\\'m {} years old.\", name, age)\\nprint(formatted_string)', 'name': 'Alice', 'age': 25, '_i44': '\\n# Format a string with specified values\\nname = \\'Alice\\'\\nage = 25\\nformatted_string = \"My name is {} and I\\'m {} years old.\".format(name, age)\\nprint(formatted_string)', 'formatted_string': \"My name is Alice and I'm 25 years old.\", '_i45': '\\n# Create an immutable frozenset object\\nfrozen_set = frozenset([1, 2, 3])\\nprint(frozen_set)', 'frozen_set': frozenset({1, 2, 3}), '_i46': \"\\n# Get the value of an attribute from an object\\nclass Person:\\n    name = 'Alice'\\n\\nperson = Person()\\nname = getattr(person, 'name')\\nprint(name)\", '_i47': '\\n# Get a dictionary representing the current global symbol table\\nglobals_dict = globals()\\nprint(globals_dict)', 'globals_dict': {...}, '_i48': '# Absolute value of a number\\nabs_num = abs(-5)\\nprint(abs_num)', '_i49': '\\n# Check if all elements in a list are True\\nall_true = all([True, True, False])\\nprint(all_true)', '_i50': '\\n# Check if any element in a list is True\\nany_true = any([True, True, False])\\nprint(any_true)', '_i51': \"\\n# Get the ASCII representation of a character\\nascii_char = ascii('a')\\nprint(ascii_char)\", '_i52': '\\n# Convert an integer to a binary string\\nbinary_num = bin(10)\\nprint(binary_num)', '_i53': '\\n# Check if a value is a boolean\\nis_bool = bool(1)\\nprint(is_bool)', '_i54': \"\\n# Set a breakpoint for debugging\\ndef debug_function():\\n    breakpoint()\\n    print('Debugging...')\\n\\ndebug_function()\", '_i55': \"\\n# Create a mutable bytearray object\\nbyte_array = bytearray(b'Hello')\\nprint(byte_array)\", '_i56': \"\\n# Create a bytes object from a string\\nbyte_string = bytes('Hello', 'utf-8')\\nprint(byte_string)\", '_i57': '\\n# Check if an object is callable\\nis_callable = callable(print)\\nprint(is_callable)', '_i58': '\\n# Get the Unicode character for a given codepoint\\nunicode_char = chr(8364)\\nprint(unicode_char)', '_i59': \"\\n# Define a class method\\nclass MyClass:\\n    @classmethod\\n    def my_method(cls):\\n        print('Class method')\\n\\nMyClass.my_method()\", '_i60': '\\n# Compile a Python source or AST object\\ncode = compile(\\'print(\"Hello, world!\")\\', \\'\\', \\'exec\\')\\nexec(code)', '_i61': '\\n# Create a complex number\\ncomplex_num = complex(2, 3)\\nprint(complex_num)', '_i62': '\\n# Delete an attribute from an object\\nclass Person:\\n    def __init__(self, name, age):\\n        self.name = name\\n        self.age = age\\n\\nperson = Person(\"Alice\", 25)\\n\\nprint(\"Before deletion:\")\\nprint(\"Name:\", person.name)\\nprint(\"Age:\", person.age)\\n\\ntry:\\n    delattr(person, \\'age\\')\\n    print(\"\\\\nAfter deletion:\")\\n    print(\"Name:\", person.name)\\n    print(\"Age:\", person.age)\\nexcept AttributeError:\\n    print(\"Attribute does not exist\")', '_i63': '\\n# Create a dictionary\\nmy_dict = dict(a=1, b=2, c=3)\\nprint(my_dict)', '_i64': '\\n# Get the list of names in the current namespace\\nnamespace_names = dir()\\nprint(namespace_names)', '_i65': '\\n# Perform integer division and return the quotient and remainder\\nquotient, remainder = divmod(10, 3)\\nprint(quotient, remainder)', '_i66': \"\\n# Enumerate over a list with index and value\\nfruits = ['apple', 'banana', 'cherry']\\nfor index, fruit in enumerate(fruits):\\n    print(index, fruit)\", '_i67': \"\\n# Evaluate a string as a Python expression\\nresult = eval('2 + 3')\\nprint(result)\", '_i68': \"\\n# Execute Python code dynamically\\ncode = '''\\nx = 5\\nprint(x)\\n'''\\nexec(code)\", '_i69': '\\n# Filter elements from an iterable based on a condition\\nnumbers = [1, 2, 3, 4, 5, 6]\\nfiltered_numbers = filter(lambda x: x % 2 == 0, numbers)\\nprint(list(filtered_numbers))', '_i70': \"\\n# Convert a string or a number to a floating-point number\\nfloat_num = float('3.14')\\nprint(float_num)\", '_i71': '\\n# Format a string with specified values\\nname = \\'Alice\\'\\nage = 25\\nformatted_string = \"My name is {} and I\\'m {} years old.\".format(name, age)\\nprint(formatted_string)', '_i72': '\\n# Create an immutable frozenset object\\nfrozen_set = frozenset([1, 2, 3])\\nprint(frozen_set)', '_i73': \"\\n# Get the value of an attribute from an object\\nclass Person:\\n    name = 'Alice'\\n\\nperson = Person()\\nname = getattr(person, 'name')\\nprint(name)\", '_i74': '\\n# Get a dictionary representing the current global symbol table\\nglobals_dict = globals()\\nprint(globals_dict)', '_i75': \"\\n# Check if an object has a certain attribute\\nclass MyClass:\\n    x = 5\\n\\nmy_obj = MyClass()\\nhas_x_attr = hasattr(my_obj, 'x')\\nprint(has_x_attr)\", 'my_obj': <__main__.MyClass object at 0x7fa12ed3e7d0>, 'has_x_attr': True, '_i76': \"\\n# Get the hash value of an object\\nhash_value = hash('hello')\\nprint(hash_value)\", 'hash_value': 8276699043180737765, '_i77': '\\n# Show the help documentation for an object\\nhelp_list = help(list)\\nprint(help_list)', 'help_list': None, '_i78': '\\n# Convert an integer to a lowercase hexadecimal string\\nhex_string = hex(255)\\nprint(hex_string)', 'hex_string': '0xff', '_i79': '\\n# Get the unique identifier of an object\\nobj = object()\\nobj_id = id(obj)\\nprint(obj_id)', 'obj_id': 140330252667392, '_i80': \"\\n# Read input from the user\\nuser_input = input('Enter your name: ')\\nprint(user_input)\", 'user_input': 'josh', '_i81': \"\\n# Convert a value to an integer\\nint_value = int('42')\\nprint(int_value)\", 'int_value': 42, '_i82': '\\n# Check if an object is an instance of a class or a subclass\\nis_instance = isinstance(5, int)\\nprint(is_instance)', 'is_instance': True, '_i83': '\\n# Check if a class is a subclass of another class\\nis_subclass = issubclass(int, object)\\nprint(is_subclass)', 'is_subclass': True, '_i84': '\\n# Create an iterator object\\nnumbers = [1, 2, 3]\\nnumber_iter = iter(numbers)\\nprint(next(number_iter))', 'number_iter': <list_iterator object at 0x7fa12ed3f520>, '_i85': '\\n# Get the length of an object\\nlength = len([1, 2, 3])\\nprint(length)', 'length': 3, '_i86': '\\n# Convert an iterable to a list\\nnumbers = (1, 2, 3)\\nnumber_list = list(numbers)\\nprint(number_list)', 'number_list': [1, 2, 3], '_i87': '\\n# Get a dictionary representing the current local symbol table\\nlocals_dict = locals()\\nprint(locals_dict)', 'locals_dict': {...}}\n"
     ]
    }
   ],
   "source": [
    "\n",
    "# Get a dictionary representing the current local symbol table\n",
    "locals_dict = locals()\n",
    "print(locals_dict)\n"
   ]
  },
  {
   "cell_type": "code",
   "execution_count": 88,
   "metadata": {},
   "outputs": [
    {
     "name": "stdout",
     "output_type": "stream",
     "text": [
      "[1, 4, 9]\n"
     ]
    }
   ],
   "source": [
    "\n",
    "# Apply a function to each element of an iterable\n",
    "numbers = [1, 2, 3]\n",
    "squared_numbers = map(lambda x: x ** 2, numbers)\n",
    "print(list(squared_numbers))\n"
   ]
  },
  {
   "cell_type": "code",
   "execution_count": 89,
   "metadata": {},
   "outputs": [
    {
     "name": "stdout",
     "output_type": "stream",
     "text": [
      "5\n"
     ]
    }
   ],
   "source": [
    "\n",
    "# Get the maximum value from an iterable\n",
    "max_value = max([3, 1, 5])\n",
    "print(max_value)\n"
   ]
  },
  {
   "cell_type": "code",
   "execution_count": 90,
   "metadata": {},
   "outputs": [
    {
     "name": "stdout",
     "output_type": "stream",
     "text": [
      "<memory at 0x7fa1442b7340>\n"
     ]
    }
   ],
   "source": [
    "\n",
    "# Create a memoryview object from a bytes-like object\n",
    "data = b'Hello'\n",
    "memory_view = memoryview(data)\n",
    "print(memory_view)\n"
   ]
  },
  {
   "cell_type": "code",
   "execution_count": 91,
   "metadata": {},
   "outputs": [
    {
     "name": "stdout",
     "output_type": "stream",
     "text": [
      "1\n"
     ]
    }
   ],
   "source": [
    "\n",
    "# Get the minimum value from an iterable\n",
    "min_value = min([3, 1, 5])\n",
    "print(min_value)\n"
   ]
  },
  {
   "cell_type": "code",
   "execution_count": 92,
   "metadata": {},
   "outputs": [
    {
     "name": "stdout",
     "output_type": "stream",
     "text": [
      "1\n"
     ]
    }
   ],
   "source": [
    "\n",
    "# Get the next item from an iterator\n",
    "numbers = iter([1, 2, 3])\n",
    "next_number = next(numbers)\n",
    "print(next_number)\n"
   ]
  },
  {
   "cell_type": "code",
   "execution_count": 93,
   "metadata": {},
   "outputs": [
    {
     "name": "stdout",
     "output_type": "stream",
     "text": [
      "<object object at 0x7fa12edc8a30>\n"
     ]
    }
   ],
   "source": [
    "\n",
    "# Create a new empty object\n",
    "new_obj = object()\n",
    "print(new_obj)\n"
   ]
  },
  {
   "cell_type": "code",
   "execution_count": 94,
   "metadata": {},
   "outputs": [
    {
     "name": "stdout",
     "output_type": "stream",
     "text": [
      "0o10\n"
     ]
    }
   ],
   "source": [
    "\n",
    "# Convert an integer to an octal string\n",
    "oct_string = oct(8)\n",
    "print(oct_string)\n"
   ]
  },
  {
   "cell_type": "code",
   "execution_count": 95,
   "metadata": {},
   "outputs": [],
   "source": [
    "\n",
    "# Open a file and return a file object\n",
    "file_obj = open('myfile.txt', 'w')\n",
    "file_obj.write('Hello, World!')\n",
    "file_obj.close()\n"
   ]
  },
  {
   "cell_type": "code",
   "execution_count": 96,
   "metadata": {},
   "outputs": [
    {
     "name": "stdout",
     "output_type": "stream",
     "text": [
      "65\n"
     ]
    }
   ],
   "source": [
    "\n",
    "# Get the Unicode code point for a character\n",
    "unicode_point = ord('A')\n",
    "print(unicode_point)\n"
   ]
  },
  {
   "cell_type": "code",
   "execution_count": 97,
   "metadata": {},
   "outputs": [
    {
     "name": "stdout",
     "output_type": "stream",
     "text": [
      "8\n"
     ]
    }
   ],
   "source": [
    "\n",
    "# Calculate the value of x to the power of y\n",
    "power_value = pow(2, 3)\n",
    "print(power_value)\n"
   ]
  },
  {
   "cell_type": "code",
   "execution_count": 98,
   "metadata": {},
   "outputs": [
    {
     "name": "stdout",
     "output_type": "stream",
     "text": [
      "Hello, World!\n"
     ]
    }
   ],
   "source": [
    "\n",
    "# Print values to the console\n",
    "print('Hello, World!')\n"
   ]
  },
  {
   "cell_type": "code",
   "execution_count": 99,
   "metadata": {},
   "outputs": [
    {
     "name": "stdout",
     "output_type": "stream",
     "text": [
      "5\n"
     ]
    }
   ],
   "source": [
    "\n",
    "# Create a property attribute\n",
    "class MyClass:\n",
    "    def __init__(self):\n",
    "        self._x = None\n",
    "\n",
    "    @property\n",
    "    def x(self):\n",
    "        return self._x\n",
    "\n",
    "    @x.setter\n",
    "    def x(self, value):\n",
    "        self._x = value\n",
    "\n",
    "obj = MyClass()\n",
    "obj.x = 5\n",
    "print(obj.x)\n"
   ]
  },
  {
   "cell_type": "code",
   "execution_count": 100,
   "metadata": {},
   "outputs": [
    {
     "name": "stdout",
     "output_type": "stream",
     "text": [
      "[0, 1, 2, 3, 4]\n"
     ]
    }
   ],
   "source": [
    "\n",
    "# Generate a sequence of numbers\n",
    "number_range = range(5)\n",
    "print(list(number_range))\n"
   ]
  },
  {
   "cell_type": "code",
   "execution_count": 101,
   "metadata": {},
   "outputs": [
    {
     "name": "stdout",
     "output_type": "stream",
     "text": [
      "[1, 2, 3]\n"
     ]
    }
   ],
   "source": [
    "\n",
    "# Get the string representation of an object\n",
    "string_repr = repr([1, 2, 3])\n",
    "print(string_repr)\n"
   ]
  },
  {
   "cell_type": "code",
   "execution_count": 102,
   "metadata": {},
   "outputs": [
    {
     "name": "stdout",
     "output_type": "stream",
     "text": [
      "[3, 2, 1]\n"
     ]
    }
   ],
   "source": [
    "\n",
    "# Reverse the order of an iterable\n",
    "numbers = [1, 2, 3]\n",
    "reversed_numbers = reversed(numbers)\n",
    "print(list(reversed_numbers))\n"
   ]
  },
  {
   "cell_type": "code",
   "execution_count": 103,
   "metadata": {},
   "outputs": [
    {
     "name": "stdout",
     "output_type": "stream",
     "text": [
      "3.14\n"
     ]
    }
   ],
   "source": [
    "\n",
    "# Round a number to a specified number of decimals\n",
    "rounded_num = round(3.14159, 2)\n",
    "print(rounded_num)\n"
   ]
  },
  {
   "cell_type": "code",
   "execution_count": 104,
   "metadata": {},
   "outputs": [
    {
     "name": "stdout",
     "output_type": "stream",
     "text": [
      "{1, 2, 3}\n"
     ]
    }
   ],
   "source": [
    "\n",
    "# Create a set object\n",
    "my_set = set([1, 2, 3])\n",
    "print(my_set)\n"
   ]
  },
  {
   "cell_type": "code",
   "execution_count": 105,
   "metadata": {},
   "outputs": [
    {
     "name": "stdout",
     "output_type": "stream",
     "text": [
      "Bob\n"
     ]
    }
   ],
   "source": [
    "\n",
    "# Set the value of an attribute of an object\n",
    "class Person:\n",
    "    name = 'Alice'\n",
    "\n",
    "person = Person()\n",
    "setattr(person, 'name', 'Bob')\n",
    "print(person.name)\n"
   ]
  },
  {
   "cell_type": "code",
   "execution_count": 106,
   "metadata": {},
   "outputs": [
    {
     "name": "stdout",
     "output_type": "stream",
     "text": [
      "[2, 3, 4]\n"
     ]
    }
   ],
   "source": [
    "\n",
    "# Create a slice object\n",
    "my_slice = slice(2, 5)\n",
    "numbers = [0, 1, 2, 3, 4, 5, 6]\n",
    "sliced_numbers = numbers[my_slice]\n",
    "print(sliced_numbers)\n"
   ]
  },
  {
   "cell_type": "code",
   "execution_count": 107,
   "metadata": {},
   "outputs": [
    {
     "name": "stdout",
     "output_type": "stream",
     "text": [
      "[1, 2, 3]\n"
     ]
    }
   ],
   "source": [
    "\n",
    "# Sort the elements of an iterable\n",
    "numbers = [3, 1, 2]\n",
    "sorted_numbers = sorted(numbers)\n",
    "print(sorted_numbers)\n"
   ]
  },
  {
   "cell_type": "code",
   "execution_count": 108,
   "metadata": {},
   "outputs": [
    {
     "name": "stdout",
     "output_type": "stream",
     "text": [
      "Static method\n"
     ]
    }
   ],
   "source": [
    "\n",
    "# Define a static method\n",
    "class MyClass:\n",
    "    @staticmethod\n",
    "    def my_method():\n",
    "        print('Static method')\n",
    "\n",
    "MyClass.my_method()\n"
   ]
  },
  {
   "cell_type": "code",
   "execution_count": 109,
   "metadata": {},
   "outputs": [
    {
     "name": "stdout",
     "output_type": "stream",
     "text": [
      "[1, 2, 3]\n"
     ]
    }
   ],
   "source": [
    "\n",
    "# Convert an object to a string\n",
    "my_list = [1, 2, 3]\n",
    "list_string = str(my_list)\n",
    "print(list_string)\n"
   ]
  },
  {
   "cell_type": "code",
   "execution_count": 110,
   "metadata": {},
   "outputs": [
    {
     "name": "stdout",
     "output_type": "stream",
     "text": [
      "6\n"
     ]
    }
   ],
   "source": [
    "\n",
    "# Calculate the sum of all elements in an iterable\n",
    "total_sum = sum([1, 2, 3])\n",
    "print(total_sum)\n"
   ]
  },
  {
   "cell_type": "code",
   "execution_count": 111,
   "metadata": {},
   "outputs": [
    {
     "name": "stdout",
     "output_type": "stream",
     "text": [
      "Parent method\n"
     ]
    }
   ],
   "source": [
    "\n",
    "# Access methods of a superclass from a subclass\n",
    "class Parent:\n",
    "    def my_method(self):\n",
    "        print('Parent method')\n",
    "\n",
    "class Child(Parent):\n",
    "    def my_method(self):\n",
    "        super().my_method()\n",
    "\n",
    "child_obj = Child()\n",
    "child_obj.my_method()\n"
   ]
  },
  {
   "cell_type": "code",
   "execution_count": 112,
   "metadata": {},
   "outputs": [
    {
     "name": "stdout",
     "output_type": "stream",
     "text": [
      "(1, 2, 3)\n"
     ]
    }
   ],
   "source": [
    "\n",
    "# Create a tuple object\n",
    "my_tuple = tuple([1, 2, 3])\n",
    "print(my_tuple)\n"
   ]
  },
  {
   "cell_type": "code",
   "execution_count": 113,
   "metadata": {},
   "outputs": [
    {
     "name": "stdout",
     "output_type": "stream",
     "text": [
      "<class 'int'>\n"
     ]
    }
   ],
   "source": [
    "\n",
    "# Get the type of an object\n",
    "obj_type = type(42)\n",
    "print(obj_type)\n"
   ]
  },
  {
   "cell_type": "code",
   "execution_count": 114,
   "metadata": {},
   "outputs": [
    {
     "name": "stdout",
     "output_type": "stream",
     "text": [
      "{'x': 5, 'y': 10}\n"
     ]
    }
   ],
   "source": [
    "\n",
    "# Get the dictionary of attributes and values of an object\n",
    "class MyClass:\n",
    "    def __init__(self):\n",
    "        self.x = 5\n",
    "        self.y = 10\n",
    "\n",
    "my_obj = MyClass()\n",
    "obj_vars = vars(my_obj)\n",
    "print(obj_vars)\n"
   ]
  },
  {
   "cell_type": "code",
   "execution_count": 115,
   "metadata": {},
   "outputs": [
    {
     "name": "stdout",
     "output_type": "stream",
     "text": [
      "[(1, 'A'), (2, 'B'), (3, 'C')]\n"
     ]
    }
   ],
   "source": [
    "\n",
    "# Create an iterator of tuples from multiple iterables\n",
    "numbers = [1, 2, 3]\n",
    "letters = ['A', 'B', 'C']\n",
    "zipped = zip(numbers, letters)\n",
    "print(list(zipped))\n",
    "\n"
   ]
  }
 ],
 "metadata": {
  "kernelspec": {
   "display_name": "Python 3",
   "language": "python",
   "name": "python3"
  },
  "language_info": {
   "codemirror_mode": {
    "name": "ipython",
    "version": 3
   },
   "file_extension": ".py",
   "mimetype": "text/x-python",
   "name": "python",
   "nbconvert_exporter": "python",
   "pygments_lexer": "ipython3",
   "version": "3.10.6"
  },
  "orig_nbformat": 4
 },
 "nbformat": 4,
 "nbformat_minor": 2
}
