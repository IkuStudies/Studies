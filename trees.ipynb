{
 "cells": [
  {
   "attachments": {},
   "cell_type": "markdown",
   "metadata": {},
   "source": [
    "Creating a Binary Tree"
   ]
  },
  {
   "cell_type": "code",
   "execution_count": null,
   "metadata": {
    "vscode": {
     "languageId": "plaintext"
    }
   },
   "outputs": [],
   "source": [
    "class Node:\n",
    "    def __init__(self, data):\n",
    "        self.data = data\n",
    "        self.left = None\n",
    "        self.right = None\n",
    "\n",
    "# Create the tree\n",
    "root = Node(1)\n",
    "root.left = Node(2)\n",
    "root.right = Node(3)\n",
    "root.left.left = Node(4)\n",
    "root.left.right = Node(5)\n",
    "\n",
    "# Traverse the tree (e.g., in-order traversal)\n",
    "def inorder_traversal(node):\n",
    "    if node is not None:\n",
    "        inorder_traversal(node.left)\n",
    "        print(node.data, end=' ')\n",
    "        inorder_traversal(node.right)\n",
    "\n",
    "inorder_traversal(root)  # Output: 4 2 5 1 3\n"
   ]
  },
  {
   "attachments": {},
   "cell_type": "markdown",
   "metadata": {},
   "source": [
    "Finding the height of a tree"
   ]
  },
  {
   "cell_type": "code",
   "execution_count": null,
   "metadata": {
    "vscode": {
     "languageId": "plaintext"
    }
   },
   "outputs": [],
   "source": [
    "class Node:\n",
    "    def __init__(self, data):\n",
    "        self.data = data\n",
    "        self.left = None\n",
    "        self.right = None\n",
    "\n",
    "# Calculate the height of a tree\n",
    "def height(node):\n",
    "    if node is None:\n",
    "        return 0\n",
    "    else:\n",
    "        left_height = height(node.left)\n",
    "        right_height = height(node.right)\n",
    "        return max(left_height, right_height) + 1\n",
    "\n",
    "# Create the tree\n",
    "root = Node(1)\n",
    "root.left = Node(2)\n",
    "root.right = Node(3)\n",
    "root.left.left = Node(4)\n",
    "root.left.right = Node(5)\n",
    "\n",
    "tree_height = height(root)\n",
    "print(tree_height)  # Output: 3\n"
   ]
  },
  {
   "attachments": {},
   "cell_type": "markdown",
   "metadata": {},
   "source": [
    "Checking if a Binary Tree is a Binary Search Tree:"
   ]
  },
  {
   "cell_type": "code",
   "execution_count": null,
   "metadata": {
    "vscode": {
     "languageId": "plaintext"
    }
   },
   "outputs": [],
   "source": [
    "class Node:\n",
    "    def __init__(self, data):\n",
    "        self.data = data\n",
    "        self.left = None\n",
    "        self.right = None\n",
    "\n",
    "# Check if a binary tree is a binary search tree\n",
    "def is_binary_search_tree(node, min_value, max_value):\n",
    "    if node is None:\n",
    "        return True\n",
    "    if node.data < min_value or node.data > max_value:\n",
    "        return False\n",
    "    return (\n",
    "        is_binary_search_tree(node.left, min_value, node.data - 1)\n",
    "        and is_binary_search_tree(node.right, node.data + 1, max_value)\n",
    "    )\n",
    "\n",
    "# Create the tree\n",
    "root = Node(4)\n",
    "root.left = Node(2)\n",
    "root.right = Node(6)\n",
    "root.left.left = Node(1)\n",
    "root.left.right = Node(3)\n",
    "root.right.left = Node(5)\n",
    "root.right.right = Node(7)\n",
    "\n",
    "is_bst = is_binary_search_tree(root, float('-inf'), float('inf'))\n",
    "print(is_bst)  # Output: True\n"
   ]
  },
  {
   "attachments": {},
   "cell_type": "markdown",
   "metadata": {},
   "source": [
    "Performing Level-Order Traversal on a Tree:"
   ]
  },
  {
   "cell_type": "code",
   "execution_count": null,
   "metadata": {
    "vscode": {
     "languageId": "plaintext"
    }
   },
   "outputs": [],
   "source": [
    "from collections import deque\n",
    "\n",
    "class Node:\n",
    "    def __init__(self, data):\n",
    "        self.data = data\n",
    "        self.left = None\n",
    "        self.right = None\n",
    "\n",
    "# Perform level-order traversal on a tree\n",
    "def level_order_traversal(root):\n",
    "    if root is None:\n",
    "        return\n",
    "\n",
    "    queue = deque()\n",
    "    queue.append(root)\n",
    "\n",
    "    while queue:\n",
    "        node = queue.popleft()\n",
    "        print(node.data, end=' ')\n",
    "\n",
    "        if node.left:\n",
    "            queue.append(node.left)\n",
    "        if node.right:\n",
    "            queue.append(node.right)\n",
    "\n",
    "# Create the tree\n",
    "root = Node(1)\n",
    "root.left = Node(2)\n",
    "root.right = Node(3)\n",
    "root.left.left = Node(4)\n",
    "root.left.right = Node(5)\n",
    "\n",
    "level_order_traversal(root)  # Output: 1 2 3 4 5\n"
   ]
  }
 ],
 "metadata": {
  "language_info": {
   "name": "python"
  },
  "orig_nbformat": 4
 },
 "nbformat": 4,
 "nbformat_minor": 2
}
