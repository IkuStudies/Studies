{
 "cells": [
  {
   "attachments": {},
   "cell_type": "markdown",
   "metadata": {},
   "source": [
    "Create a Min Heap using heapq"
   ]
  },
  {
   "cell_type": "code",
   "execution_count": null,
   "metadata": {},
   "outputs": [],
   "source": [
    "import heapq\n",
    "\n",
    "# Create an empty heap\n",
    "heap = []\n",
    "\n",
    "# Insert elements into the heap\n",
    "heapq.heappush(heap, 5)\n",
    "heapq.heappush(heap, 3)\n",
    "heapq.heappush(heap, 8)\n",
    "heapq.heappush(heap, 1)\n",
    "heapq.heappush(heap, 10)\n",
    "\n",
    "# Get the minimum element from the heap\n",
    "min_element = heapq.heappop(heap)\n",
    "print(min_element)  # Output: 1\n"
   ]
  },
  {
   "attachments": {},
   "cell_type": "markdown",
   "metadata": {},
   "source": [
    "create a max heap"
   ]
  },
  {
   "cell_type": "code",
   "execution_count": null,
   "metadata": {},
   "outputs": [],
   "source": [
    "import heapq\n",
    "\n",
    "# Create an empty heap\n",
    "heap = []\n",
    "\n",
    "# Insert elements into the heap with negated values\n",
    "heapq.heappush(heap, -5)\n",
    "heapq.heappush(heap, -3)\n",
    "heapq.heappush(heap, -8)\n",
    "heapq.heappush(heap, -1)\n",
    "heapq.heappush(heap, -10)\n",
    "\n",
    "# Get the maximum element from the heap (multiply by -1)\n",
    "max_element = -heapq.heappop(heap)\n",
    "print(max_element)  # Output: 10\n"
   ]
  },
  {
   "attachments": {},
   "cell_type": "markdown",
   "metadata": {},
   "source": [
    "Heapify a List to create a heap"
   ]
  },
  {
   "cell_type": "code",
   "execution_count": null,
   "metadata": {},
   "outputs": [],
   "source": [
    "import heapq\n",
    "\n",
    "# Create a list\n",
    "nums = [5, 3, 8, 1, 10]\n",
    "\n",
    "# Heapify the list to create a heap in-place\n",
    "heapq.heapify(nums)\n",
    "\n",
    "# Get the minimum element from the heap\n",
    "min_element = heapq.heappop(nums)\n",
    "print(min_element)  # Output: 1\n"
   ]
  },
  {
   "attachments": {},
   "cell_type": "markdown",
   "metadata": {},
   "source": [
    "merge multiple heaps into a single heap"
   ]
  },
  {
   "cell_type": "code",
   "execution_count": null,
   "metadata": {},
   "outputs": [],
   "source": [
    "import heapq\n",
    "\n",
    "# Create two heaps\n",
    "heap1 = [3, 8, 2, 5]\n",
    "heap2 = [1, 6, 4, 7]\n",
    "\n",
    "# Merge the heaps into a single heap\n",
    "merged_heap = heapq.merge(heap1, heap2)\n",
    "\n",
    "# Get the elements from the merged heap\n",
    "merged_list = list(merged_heap)\n",
    "print(merged_list)  # Output: [1, 3, 2, 6, 4, 7, 8, 5]\n"
   ]
  },
  {
   "attachments": {},
   "cell_type": "markdown",
   "metadata": {},
   "source": [
    "Use Heapq to find the largest elements in a list"
   ]
  },
  {
   "cell_type": "code",
   "execution_count": null,
   "metadata": {},
   "outputs": [],
   "source": [
    "import heapq\n",
    "\n",
    "# Create a list\n",
    "nums = [5, 9, 2, 12, 8, 15, 3, 7]\n",
    "\n",
    "# Find the 3 largest elements using a min heap\n",
    "largest_elements = heapq.nlargest(3, nums)\n",
    "\n",
    "print(largest_elements)  # Output: [15, 12, 9]\n"
   ]
  }
 ],
 "metadata": {
  "language_info": {
   "name": "python"
  },
  "orig_nbformat": 4
 },
 "nbformat": 4,
 "nbformat_minor": 2
}
