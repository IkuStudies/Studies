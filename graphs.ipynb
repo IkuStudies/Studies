{
 "cells": [
  {
   "attachments": {},
   "cell_type": "markdown",
   "metadata": {},
   "source": [
    "Graphs."
   ]
  },
  {
   "cell_type": "code",
   "execution_count": null,
   "metadata": {
    "vscode": {
     "languageId": "plaintext"
    }
   },
   "outputs": [],
   "source": [
    "#create a graph using networkx\n",
    "\n",
    "import networkx as nx\n",
    "\n",
    "# Create an empty graph\n",
    "graph = nx.Graph()\n",
    "\n",
    "# Add nodes to the graph\n",
    "graph.add_node(1)\n",
    "graph.add_nodes_from([2, 3, 4])\n",
    "\n",
    "# Add edges to the graph\n",
    "graph.add_edge(1, 2)\n",
    "graph.add_edges_from([(2, 3), (3, 4)])\n",
    "\n",
    "# Print the graph\n",
    "print(graph.nodes())  # Output: [1, 2, 3, 4]\n",
    "print(graph.edges())  # Output: [(1, 2), (2, 3), (3, 4)]\n"
   ]
  },
  {
   "cell_type": "code",
   "execution_count": null,
   "metadata": {
    "vscode": {
     "languageId": "plaintext"
    }
   },
   "outputs": [],
   "source": [
    "#depth first traversal of a graph\n",
    "\n",
    "def dfs(graph, start):\n",
    "    visited = set()\n",
    "    stack = [start]\n",
    "\n",
    "    while stack:\n",
    "        node = stack.pop()\n",
    "        if node not in visited:\n",
    "            visited.add(node)\n",
    "            stack.extend(graph[node] - visited)\n",
    "\n",
    "    return visited\n",
    "\n",
    "# Create a graph\n",
    "graph = {\n",
    "    'A': {'B', 'C'},\n",
    "    'B': {'A', 'D'},\n",
    "    'C': {'A', 'E'},\n",
    "    'D': {'B'},\n",
    "    'E': {'C'}\n",
    "}\n",
    "\n",
    "# Perform DFS traversal\n",
    "result = dfs(graph, 'A')\n",
    "print(result)  # Output: {'A', 'B', 'C', 'D', 'E'}\n"
   ]
  },
  {
   "cell_type": "code",
   "execution_count": null,
   "metadata": {
    "vscode": {
     "languageId": "plaintext"
    }
   },
   "outputs": [],
   "source": [
    "#Breadth-first traversal of a graph\n",
    "\n",
    "from collections import deque\n",
    "\n",
    "def bfs(graph, start):\n",
    "    visited = set()\n",
    "    queue = deque([start])\n",
    "\n",
    "    while queue:\n",
    "        node = queue.popleft()\n",
    "        if node not in visited:\n",
    "            visited.add(node)\n",
    "            queue.extend(graph[node] - visited)\n",
    "\n",
    "    return visited\n",
    "\n",
    "# Create a graph\n",
    "graph = {\n",
    "    'A': {'B', 'C'},\n",
    "    'B': {'A', 'D'},\n",
    "    'C': {'A', 'E'},\n",
    "    'D': {'B'},\n",
    "    'E': {'C'}\n",
    "}\n",
    "\n",
    "# Perform BFS traversal\n",
    "result = bfs(graph, 'A')\n",
    "print(result)  # Output: {'A', 'B', 'C', 'D', 'E'}\n"
   ]
  },
  {
   "cell_type": "code",
   "execution_count": null,
   "metadata": {
    "vscode": {
     "languageId": "plaintext"
    }
   },
   "outputs": [],
   "source": [
    "#shortest path using dijkstra's algorithm\n",
    "\n",
    "import networkx as nx\n",
    "\n",
    "# Create a weighted graph\n",
    "graph = nx.Graph()\n",
    "graph.add_edge('A', 'B', weight=5)\n",
    "graph.add_edge('A', 'C', weight=3)\n",
    "graph.add_edge('B', 'D', weight=2)\n",
    "graph.add_edge('C', 'D', weight=4)\n",
    "graph.add_edge('D', 'E', weight=1)\n",
    "\n",
    "# Find the shortest path using Dijkstra's algorithm\n",
    "shortest_path = nx.dijkstra_path(graph, 'A', 'E', weight='weight')\n",
    "shortest_distance = nx.dijkstra_path_length(graph, 'A', 'E', weight='weight')\n",
    "\n",
    "print(shortest_path)  # Output: ['A', 'C', 'D', 'E']\n",
    "print(shortest_distance)  # Output: 8\n"
   ]
  },
  {
   "cell_type": "code",
   "execution_count": null,
   "metadata": {
    "vscode": {
     "languageId": "plaintext"
    }
   },
   "outputs": [],
   "source": [
    "#checking if a graph is a DAG directed acyclic graph\n",
    "\n",
    "import networkx as nx\n",
    "\n",
    "# Create a directed graph\n",
    "graph = nx.DiGraph()\n",
    "graph.add_edge('A', 'B')\n",
    "graph.add_edge('B', 'C')\n",
    "graph.add_edge('C', 'D')\n",
    "graph.add_edge('D', 'A')  # Adding a cycle\n",
    "\n",
    "# Check if the graph is a DAG\n",
    "is_dag = nx.is_directed_\n"
   ]
  }
 ],
 "metadata": {
  "language_info": {
   "name": "python"
  },
  "orig_nbformat": 4
 },
 "nbformat": 4,
 "nbformat_minor": 2
}
